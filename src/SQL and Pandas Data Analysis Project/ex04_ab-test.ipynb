{
 "cells": [
  {
   "cell_type": "markdown",
   "id": "73a59e0c",
   "metadata": {},
   "source": [
    "## A\\B Testing - does the page affect the students?"
   ]
  },
  {
   "cell_type": "code",
   "execution_count": 1,
   "id": "0a75ef47",
   "metadata": {},
   "outputs": [],
   "source": [
    "import pandas as pd\n",
    "import sqlite3"
   ]
  },
  {
   "cell_type": "code",
   "execution_count": 2,
   "id": "6007b082",
   "metadata": {},
   "outputs": [],
   "source": [
    "con = sqlite3.connect('../../datasets/checking-logs.sqlite')"
   ]
  },
  {
   "cell_type": "markdown",
   "id": "31278520",
   "metadata": {},
   "source": [
    "#### Using only one query for each of the groups, create two dataframes: test_results and control_results with the columns time and avg_diff and only two rows"
   ]
  },
  {
   "cell_type": "code",
   "execution_count": 3,
   "id": "330c177f",
   "metadata": {},
   "outputs": [
    {
     "name": "stdout",
     "output_type": "stream",
     "text": [
      "  time_period   avg_diff\n",
      "0       after -99.523810\n",
      "1      before -66.047619\n"
     ]
    }
   ],
   "source": [
    "sql = \"\"\"\n",
    "WITH time_period_deltas AS (\n",
    "    SELECT t.uid, \n",
    "    CASE\n",
    "        WHEN first_commit_ts < first_view_ts THEN 'before'\n",
    "        ELSE 'after'\n",
    "    END as time_period,\n",
    "    avg((strftime('%s', first_commit_ts) - d.deadlines)/3600) as avg_diff\n",
    "    FROM test t\n",
    "    JOIN deadlines d on labs = t.labname\n",
    "    WHERE \n",
    "        labname != 'project1'\n",
    "    GROUP BY \n",
    "        t.uid, time_period\n",
    "), valid_users as (\n",
    "    SELECT uid, COUNT(DISTINCT time_period) as valid_users\n",
    "    FROM time_period_deltas\n",
    "    GROUP BY uid\n",
    ")\n",
    "SELECT time_period, avg(avg_diff) as  avg_diff\n",
    "FROM time_period_deltas t\n",
    "JOIN valid_users v on t.uid = v.uid \n",
    "WHERE valid_users = 2\n",
    "Group by time_period\n",
    "\"\"\"\n",
    "test_results = pd.read_sql(sql, con)\n",
    "print(test_results)"
   ]
  },
  {
   "cell_type": "code",
   "execution_count": 4,
   "id": "15a424ec",
   "metadata": {},
   "outputs": [
    {
     "name": "stdout",
     "output_type": "stream",
     "text": [
      "  time_period   avg_diff\n",
      "0       after -99.322222\n",
      "1      before -98.033333\n"
     ]
    }
   ],
   "source": [
    "sql = \"\"\"\n",
    "WITH time_period_deltas AS (\n",
    "    SELECT c.uid, \n",
    "    CASE\n",
    "        WHEN first_commit_ts < first_view_ts THEN 'before'\n",
    "        ELSE 'after'\n",
    "    END as time_period,\n",
    "    avg((strftime('%s', first_commit_ts) - d.deadlines)/3600) as avg_diff\n",
    "    FROM control c\n",
    "    JOIN deadlines d on labs = c.labname\n",
    "    WHERE \n",
    "        labname != 'project1'\n",
    "    GROUP BY \n",
    "        c.uid, time_period\n",
    "), valid_users as (\n",
    "    SELECT uid, COUNT(DISTINCT time_period) as valid_users\n",
    "    FROM time_period_deltas\n",
    "    GROUP BY uid\n",
    ")\n",
    "SELECT time_period, avg(avg_diff) as  avg_diff\n",
    "FROM time_period_deltas t\n",
    "JOIN valid_users v on t.uid = v.uid \n",
    "WHERE valid_users = 2\n",
    "Group by time_period\n",
    "\"\"\"\n",
    "control_results = pd.read_sql(sql, con)\n",
    "print(control_results)"
   ]
  },
  {
   "cell_type": "markdown",
   "id": "96c3496e",
   "metadata": {},
   "source": [
    "### Result - the page definitely affect the students"
   ]
  },
  {
   "cell_type": "code",
   "execution_count": 5,
   "id": "6303ef71",
   "metadata": {},
   "outputs": [],
   "source": [
    "con.close()"
   ]
  }
 ],
 "metadata": {
  "kernelspec": {
   "display_name": ".venv",
   "language": "python",
   "name": "python3"
  },
  "language_info": {
   "codemirror_mode": {
    "name": "ipython",
    "version": 3
   },
   "file_extension": ".py",
   "mimetype": "text/x-python",
   "name": "python",
   "nbconvert_exporter": "python",
   "pygments_lexer": "ipython3",
   "version": "3.13.3"
  }
 },
 "nbformat": 4,
 "nbformat_minor": 5
}
