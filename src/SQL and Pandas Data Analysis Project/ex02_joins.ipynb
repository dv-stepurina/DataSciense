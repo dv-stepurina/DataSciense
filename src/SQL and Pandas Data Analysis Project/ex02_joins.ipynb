{
 "cells": [
  {
   "cell_type": "markdown",
   "id": "91bf4ba0",
   "metadata": {},
   "source": [
    "## Create Test and Control groups"
   ]
  },
  {
   "cell_type": "code",
   "execution_count": 1,
   "id": "de9243ea",
   "metadata": {},
   "outputs": [],
   "source": [
    "import pandas as pd\n",
    "import sqlite3"
   ]
  },
  {
   "cell_type": "code",
   "execution_count": 2,
   "id": "7f1809a8",
   "metadata": {},
   "outputs": [],
   "source": [
    "con = sqlite3.connect('../../datasets/checking-logs.sqlite')"
   ]
  },
  {
   "cell_type": "markdown",
   "id": "f6d1ae83",
   "metadata": {},
   "source": [
    "#### Create a new table datamart in the database by joining the tables pageviews and checker using only one query"
   ]
  },
  {
   "cell_type": "code",
   "execution_count": 3,
   "id": "2c1dd7ff",
   "metadata": {},
   "outputs": [
    {
     "name": "stdout",
     "output_type": "stream",
     "text": [
      "         uid   labname            first_commit_ts              first_view_ts\n",
      "0     user_4  project1 2020-04-17 05:19:02.744528                        NaT\n",
      "1     user_4    laba04 2020-04-17 11:33:17.366400                        NaT\n",
      "2     user_4   laba04s 2020-04-17 11:48:41.992466                        NaT\n",
      "3    user_17  project1 2020-04-18 07:56:45.408648 2020-04-18 10:56:55.833899\n",
      "4    user_30    laba04 2020-04-18 13:36:53.971502 2020-04-17 22:46:26.785035\n",
      "..       ...       ...                        ...                        ...\n",
      "141  user_23    laba06 2020-05-21 08:34:10.517205                        NaT\n",
      "142  user_19   laba06s 2020-05-21 13:27:06.705881 2020-04-21 20:30:38.034966\n",
      "143  user_23   laba06s 2020-05-21 14:29:15.709568                        NaT\n",
      "144  user_17    laba06 2020-05-21 15:21:31.567615 2020-04-18 10:56:55.833899\n",
      "145  user_17   laba06s 2020-05-21 17:39:17.783615 2020-04-18 10:56:55.833899\n",
      "\n",
      "[146 rows x 4 columns]\n"
     ]
    }
   ],
   "source": [
    "create_datamart = \"\"\"\n",
    "CREATE TABLE IF NOT EXISTS datamart AS\n",
    "WITH \n",
    "filt_checker AS (\n",
    "    SELECT \n",
    "        uid, \n",
    "        labname, \n",
    "        timestamp AS first_commit_ts\n",
    "    FROM checker\n",
    "    WHERE status = 'ready'\n",
    "      AND NumTrials = 1\n",
    "      AND labname IN ('laba04', 'laba04s', 'laba05', 'laba06', 'laba06s', 'project1')\n",
    "),\n",
    "filt_pageviews AS (\n",
    "    SELECT \n",
    "        uid, \n",
    "        MIN(datetime) AS first_view_ts\n",
    "    FROM pageviews\n",
    "    WHERE uid LIKE 'user_%'\n",
    "    GROUP BY uid\n",
    ")\n",
    "SELECT \n",
    "    c.uid, \n",
    "    c.labname,  \n",
    "    c.first_commit_ts,  \n",
    "    p.first_view_ts     \n",
    "FROM filt_checker c\n",
    "LEFT JOIN filt_pageviews p ON c.uid = p.uid;\n",
    "\"\"\"\n",
    "\n",
    "con.execute(create_datamart)\n",
    "\n",
    "sql = \"\"\"\n",
    "SELECT *\n",
    "FROM datamart\n",
    "\"\"\"\n",
    "datamart = pd.read_sql(sql, con, parse_dates=['first_commit_ts', 'first_view_ts'])\n",
    "datamart['first_commit_ts'] = pd.to_datetime(datamart['first_commit_ts'])\n",
    "datamart['first_view_ts'] = pd.to_datetime(datamart['first_view_ts'])\n",
    "print(datamart)"
   ]
  },
  {
   "cell_type": "code",
   "execution_count": 4,
   "id": "da73086c",
   "metadata": {},
   "outputs": [],
   "source": [
    "#con.execute(\"DROP TABLE datamart\")"
   ]
  },
  {
   "cell_type": "markdown",
   "id": "5ac63780",
   "metadata": {},
   "source": [
    "#### Using Pandas methods, create two dataframes: test and control"
   ]
  },
  {
   "cell_type": "markdown",
   "id": "ffab8d4a",
   "metadata": {},
   "source": [
    "##### Test should have the users that have the values in first_view_ts"
   ]
  },
  {
   "cell_type": "code",
   "execution_count": 5,
   "id": "6b0a3ed2",
   "metadata": {},
   "outputs": [
    {
     "name": "stdout",
     "output_type": "stream",
     "text": [
      "         uid   labname            first_commit_ts              first_view_ts\n",
      "3    user_17  project1 2020-04-18 07:56:45.408648 2020-04-18 10:56:55.833899\n",
      "4    user_30    laba04 2020-04-18 13:36:53.971502 2020-04-17 22:46:26.785035\n",
      "7    user_30   laba04s 2020-04-18 14:51:37.498399 2020-04-17 22:46:26.785035\n",
      "8    user_14    laba04 2020-04-18 15:14:00.312338 2020-04-18 10:53:52.623447\n",
      "11   user_14   laba04s 2020-04-18 22:30:30.247628 2020-04-18 10:53:52.623447\n",
      "18   user_19    laba04 2020-04-20 19:05:01.297780 2020-04-21 20:30:38.034966\n",
      "19   user_25    laba04 2020-04-20 19:16:50.673054 2020-05-09 23:54:54.260791\n",
      "20   user_21    laba04 2020-04-21 17:48:00.487806 2020-04-22 22:40:36.824081\n",
      "21   user_30  project1 2020-04-22 12:36:24.053518 2020-04-17 22:46:26.785035\n",
      "23   user_21   laba04s 2020-04-22 20:09:21.857747 2020-04-22 22:40:36.824081\n",
      "24   user_28    laba04 2020-04-22 21:47:19.707242 2020-05-10 21:07:50.350946\n",
      "27   user_17    laba04 2020-04-23 14:24:29.947554 2020-04-18 10:56:55.833899\n",
      "28    user_3    laba04 2020-04-23 20:29:14.054364 2020-05-08 10:53:47.123832\n",
      "29    user_3   laba04s 2020-04-23 20:40:26.883591 2020-05-08 10:53:47.123832\n",
      "33   user_10    laba04 2020-04-25 08:24:52.696624 2020-04-18 12:19:50.182714\n",
      "34   user_10   laba04s 2020-04-25 08:37:54.604222 2020-04-18 12:19:50.182714\n",
      "35   user_17   laba04s 2020-04-25 12:10:56.414175 2020-04-18 10:56:55.833899\n",
      "43   user_28   laba04s 2020-04-26 15:53:44.906136 2020-05-10 21:07:50.350946\n",
      "45    user_1    laba04 2020-04-26 17:06:18.462708 2020-04-26 21:53:59.624136\n",
      "46    user_1   laba04s 2020-04-26 17:12:11.843671 2020-04-26 21:53:59.624136\n",
      "48   user_18    laba04 2020-04-26 19:48:11.822365 2020-04-26 22:49:29.243278\n",
      "49   user_18   laba04s 2020-04-26 20:03:56.935458 2020-04-26 22:49:29.243278\n",
      "51   user_25   laba04s 2020-04-26 21:07:56.952117 2020-05-09 23:54:54.260791\n",
      "56   user_14    laba05 2020-04-30 11:33:04.523118 2020-04-18 10:53:52.623447\n",
      "59    user_3    laba05 2020-05-01 11:29:17.988118 2020-05-08 10:53:47.123832\n",
      "60   user_25    laba05 2020-05-01 13:02:27.357650 2020-05-09 23:54:54.260791\n",
      "62   user_28    laba05 2020-05-01 18:29:11.968537 2020-05-10 21:07:50.350946\n",
      "63   user_10    laba05 2020-05-01 19:27:26.063245 2020-04-18 12:19:50.182714\n",
      "64   user_30    laba05 2020-05-01 19:31:18.375833 2020-04-17 22:46:26.785035\n",
      "66   user_17    laba05 2020-05-02 13:21:24.045876 2020-04-18 10:56:55.833899\n",
      "68   user_21    laba05 2020-05-02 14:05:40.013959 2020-04-22 22:40:36.824081\n",
      "70   user_19    laba05 2020-05-02 15:16:13.586405 2020-04-21 20:30:38.034966\n",
      "72    user_1    laba05 2020-05-02 19:15:18.540185 2020-04-26 21:53:59.624136\n",
      "78   user_18    laba05 2020-05-03 13:01:34.848756 2020-04-26 22:49:29.243278\n",
      "85   user_14  project1 2020-05-05 21:35:43.554986 2020-04-18 10:53:52.623447\n",
      "87    user_3  project1 2020-05-07 21:02:52.885133 2020-05-08 10:53:47.123832\n",
      "88   user_25  project1 2020-05-08 11:10:28.100852 2020-05-09 23:54:54.260791\n",
      "90   user_21  project1 2020-05-10 15:21:05.442755 2020-04-22 22:40:36.824081\n",
      "91   user_18  project1 2020-05-11 10:10:04.166881 2020-04-26 22:49:29.243278\n",
      "96   user_28  project1 2020-05-12 14:42:19.166414 2020-05-10 21:07:50.350946\n",
      "98   user_10  project1 2020-05-12 20:12:28.056618 2020-04-18 12:19:50.182714\n",
      "101  user_19  project1 2020-05-14 10:33:45.495389 2020-04-21 20:30:38.034966\n",
      "106   user_1  project1 2020-05-14 20:56:08.898880 2020-04-26 21:53:59.624136\n",
      "110   user_3    laba06 2020-05-17 09:56:40.480319 2020-05-08 10:53:47.123832\n",
      "112   user_1    laba06 2020-05-17 16:26:35.268534 2020-04-26 21:53:59.624136\n",
      "113  user_28    laba06 2020-05-17 17:08:48.257050 2020-05-10 21:07:50.350946\n",
      "118  user_25    laba06 2020-05-18 17:07:47.988807 2020-05-09 23:54:54.260791\n",
      "124   user_3   laba06s 2020-05-19 08:42:50.851878 2020-05-08 10:53:47.123832\n",
      "127  user_19    laba06 2020-05-19 10:25:54.121465 2020-04-21 20:30:38.034966\n",
      "130  user_10    laba06 2020-05-19 11:39:28.885637 2020-04-18 12:19:50.182714\n",
      "133  user_30    laba06 2020-05-19 17:53:15.088248 2020-04-17 22:46:26.785035\n",
      "134  user_21    laba06 2020-05-19 19:30:14.644328 2020-04-22 22:40:36.824081\n",
      "135  user_10   laba06s 2020-05-20 07:37:31.175817 2020-04-18 12:19:50.182714\n",
      "136   user_1   laba06s 2020-05-20 12:23:37.289724 2020-04-26 21:53:59.624136\n",
      "137  user_25   laba06s 2020-05-20 14:02:26.512032 2020-05-09 23:54:54.260791\n",
      "139  user_28   laba06s 2020-05-20 20:42:44.423160 2020-05-10 21:07:50.350946\n",
      "142  user_19   laba06s 2020-05-21 13:27:06.705881 2020-04-21 20:30:38.034966\n",
      "144  user_17    laba06 2020-05-21 15:21:31.567615 2020-04-18 10:56:55.833899\n",
      "145  user_17   laba06s 2020-05-21 17:39:17.783615 2020-04-18 10:56:55.833899\n"
     ]
    }
   ],
   "source": [
    "test = datamart[datamart['first_view_ts'].notna()].copy()\n",
    "print(test)"
   ]
  },
  {
   "cell_type": "markdown",
   "id": "85809f1a",
   "metadata": {},
   "source": [
    "##### Control should have the users that have missing values in first_view_ts"
   ]
  },
  {
   "cell_type": "code",
   "execution_count": 6,
   "id": "1a2b4801",
   "metadata": {},
   "outputs": [
    {
     "name": "stdout",
     "output_type": "stream",
     "text": [
      "         uid   labname            first_commit_ts first_view_ts\n",
      "0     user_4  project1 2020-04-17 05:19:02.744528           NaT\n",
      "1     user_4    laba04 2020-04-17 11:33:17.366400           NaT\n",
      "2     user_4   laba04s 2020-04-17 11:48:41.992466           NaT\n",
      "5     user_2    laba04 2020-04-18 13:42:35.482008           NaT\n",
      "6     user_2   laba04s 2020-04-18 13:51:22.291271           NaT\n",
      "..       ...       ...                        ...           ...\n",
      "132   user_2   laba06s 2020-05-19 14:45:03.908268           NaT\n",
      "138   user_6   laba06s 2020-05-20 14:50:07.609937           NaT\n",
      "140   user_7   laba06s 2020-05-20 23:05:37.742597           NaT\n",
      "141  user_23    laba06 2020-05-21 08:34:10.517205           NaT\n",
      "143  user_23   laba06s 2020-05-21 14:29:15.709568           NaT\n",
      "\n",
      "[87 rows x 4 columns]\n"
     ]
    }
   ],
   "source": [
    "control = datamart[datamart['first_view_ts'].isna()].copy()\n",
    "print(control)"
   ]
  },
  {
   "cell_type": "markdown",
   "id": "133a9eb9",
   "metadata": {},
   "source": [
    "##### Replace the missing values in the control with the average first_view_ts of the test users, we will use this value for the future analysis"
   ]
  },
  {
   "cell_type": "code",
   "execution_count": 7,
   "id": "d4a19b11",
   "metadata": {},
   "outputs": [
    {
     "name": "stdout",
     "output_type": "stream",
     "text": [
      "2020-04-27 00:40:05.761783552\n",
      "         uid   labname            first_commit_ts  \\\n",
      "0     user_4  project1 2020-04-17 05:19:02.744528   \n",
      "1     user_4    laba04 2020-04-17 11:33:17.366400   \n",
      "2     user_4   laba04s 2020-04-17 11:48:41.992466   \n",
      "5     user_2    laba04 2020-04-18 13:42:35.482008   \n",
      "6     user_2   laba04s 2020-04-18 13:51:22.291271   \n",
      "..       ...       ...                        ...   \n",
      "132   user_2   laba06s 2020-05-19 14:45:03.908268   \n",
      "138   user_6   laba06s 2020-05-20 14:50:07.609937   \n",
      "140   user_7   laba06s 2020-05-20 23:05:37.742597   \n",
      "141  user_23    laba06 2020-05-21 08:34:10.517205   \n",
      "143  user_23   laba06s 2020-05-21 14:29:15.709568   \n",
      "\n",
      "                    first_view_ts  \n",
      "0   2020-04-27 00:40:05.761783552  \n",
      "1   2020-04-27 00:40:05.761783552  \n",
      "2   2020-04-27 00:40:05.761783552  \n",
      "5   2020-04-27 00:40:05.761783552  \n",
      "6   2020-04-27 00:40:05.761783552  \n",
      "..                            ...  \n",
      "132 2020-04-27 00:40:05.761783552  \n",
      "138 2020-04-27 00:40:05.761783552  \n",
      "140 2020-04-27 00:40:05.761783552  \n",
      "141 2020-04-27 00:40:05.761783552  \n",
      "143 2020-04-27 00:40:05.761783552  \n",
      "\n",
      "[87 rows x 4 columns]\n"
     ]
    }
   ],
   "source": [
    "avg = test['first_view_ts'].mean()\n",
    "print(avg)\n",
    "control['first_view_ts'] = control['first_view_ts'].fillna(avg)\n",
    "print(control)"
   ]
  },
  {
   "cell_type": "markdown",
   "id": "62f12539",
   "metadata": {},
   "source": [
    "##### Save both tables into the database, you will use them in the next exercises"
   ]
  },
  {
   "cell_type": "code",
   "execution_count": 8,
   "id": "aced7b7e",
   "metadata": {},
   "outputs": [
    {
     "data": {
      "text/plain": [
       "87"
      ]
     },
     "execution_count": 8,
     "metadata": {},
     "output_type": "execute_result"
    }
   ],
   "source": [
    "test.to_sql('test', con, if_exists='replace', index=False)\n",
    "control.to_sql('control', con, if_exists='replace', index=False)"
   ]
  },
  {
   "cell_type": "code",
   "execution_count": 9,
   "id": "42598818",
   "metadata": {},
   "outputs": [],
   "source": [
    "con.close()"
   ]
  }
 ],
 "metadata": {
  "kernelspec": {
   "display_name": ".venv",
   "language": "python",
   "name": "python3"
  },
  "language_info": {
   "codemirror_mode": {
    "name": "ipython",
    "version": 3
   },
   "file_extension": ".py",
   "mimetype": "text/x-python",
   "name": "python",
   "nbconvert_exporter": "python",
   "pygments_lexer": "ipython3",
   "version": "3.13.3"
  }
 },
 "nbformat": 4,
 "nbformat_minor": 5
}
