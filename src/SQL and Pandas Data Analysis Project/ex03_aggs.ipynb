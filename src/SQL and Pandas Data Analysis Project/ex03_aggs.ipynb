{
 "cells": [
  {
   "cell_type": "code",
   "execution_count": 1,
   "id": "6cdfedce",
   "metadata": {},
   "outputs": [],
   "source": [
    "import pandas as pd\n",
    "import sqlite3"
   ]
  },
  {
   "cell_type": "code",
   "execution_count": 2,
   "id": "8b7667b3",
   "metadata": {},
   "outputs": [],
   "source": [
    "con = sqlite3.connect('../../datasets/checking-logs.sqlite')"
   ]
  },
  {
   "cell_type": "markdown",
   "id": "f3f4d89e",
   "metadata": {},
   "source": [
    "#### Get the schema of the table test"
   ]
  },
  {
   "cell_type": "code",
   "execution_count": 3,
   "id": "c84b5f20",
   "metadata": {},
   "outputs": [
    {
     "name": "stdout",
     "output_type": "stream",
     "text": [
      "   cid             name       type  notnull dflt_value  pk\n",
      "0    0              uid       TEXT        0       None   0\n",
      "1    1          labname       TEXT        0       None   0\n",
      "2    2  first_commit_ts  TIMESTAMP        0       None   0\n",
      "3    3    first_view_ts  TIMESTAMP        0       None   0\n"
     ]
    }
   ],
   "source": [
    "print(pd.read_sql(\"PRAGMA table_info(test)\", con))"
   ]
  },
  {
   "cell_type": "markdown",
   "id": "b45007f9",
   "metadata": {},
   "source": [
    "#### Get only the first 10 rows of the table test to check what the table looks like"
   ]
  },
  {
   "cell_type": "code",
   "execution_count": 4,
   "id": "c7aee5ae",
   "metadata": {},
   "outputs": [
    {
     "name": "stdout",
     "output_type": "stream",
     "text": [
      "       uid   labname             first_commit_ts               first_view_ts\n",
      "0  user_17  project1  2020-04-18 07:56:45.408648  2020-04-18 10:56:55.833899\n",
      "1  user_30    laba04  2020-04-18 13:36:53.971502  2020-04-17 22:46:26.785035\n",
      "2  user_30   laba04s  2020-04-18 14:51:37.498399  2020-04-17 22:46:26.785035\n",
      "3  user_14    laba04  2020-04-18 15:14:00.312338  2020-04-18 10:53:52.623447\n",
      "4  user_14   laba04s  2020-04-18 22:30:30.247628  2020-04-18 10:53:52.623447\n",
      "5  user_19    laba04  2020-04-20 19:05:01.297780  2020-04-21 20:30:38.034966\n",
      "6  user_25    laba04  2020-04-20 19:16:50.673054  2020-05-09 23:54:54.260791\n",
      "7  user_21    laba04  2020-04-21 17:48:00.487806  2020-04-22 22:40:36.824081\n",
      "8  user_30  project1  2020-04-22 12:36:24.053518  2020-04-17 22:46:26.785035\n",
      "9  user_21   laba04s  2020-04-22 20:09:21.857747  2020-04-22 22:40:36.824081\n"
     ]
    }
   ],
   "source": [
    "sql = \"\"\"\n",
    "SELECT *\n",
    "FROM test\n",
    "limit 10\n",
    "\"\"\"\n",
    "print(pd.read_sql(sql, con))\n"
   ]
  },
  {
   "cell_type": "markdown",
   "id": "d45b8468",
   "metadata": {},
   "source": [
    "#### Find among all the users the minimum value of the delta between the first commit of the user and the deadline of the corresponding lab using only one query"
   ]
  },
  {
   "cell_type": "markdown",
   "id": "d3c327c9",
   "metadata": {},
   "source": [
    "##### Do this by joining the table with the table deadlines"
   ]
  },
  {
   "cell_type": "code",
   "execution_count": 5,
   "id": "25d7947a",
   "metadata": {},
   "outputs": [
    {
     "name": "stdout",
     "output_type": "stream",
     "text": [
      "       uid  df_min\n",
      "0  user_30    -202\n"
     ]
    }
   ],
   "source": [
    "sql = \"\"\"\n",
    "SELECT uid, MIN((strftime('%s', first_commit_ts) - d.deadlines)/3600) as df_min\n",
    "FROM test t\n",
    "LEFT JOIN deadlines d on t.labname = d.labs\n",
    "WHERE labname != 'project1'\n",
    "\"\"\"\n",
    "\n",
    "df_min = pd.read_sql(sql, con)\n",
    "print(df_min)"
   ]
  },
  {
   "cell_type": "markdown",
   "id": "4400506f",
   "metadata": {},
   "source": [
    "##### Do the same thing, but for the maximum, using only one query, the dataframe name is df_max"
   ]
  },
  {
   "cell_type": "code",
   "execution_count": 6,
   "id": "181a04c7",
   "metadata": {},
   "outputs": [
    {
     "name": "stdout",
     "output_type": "stream",
     "text": [
      "       uid  df_max\n",
      "0  user_25      -2\n"
     ]
    }
   ],
   "source": [
    "sql = \"\"\"\n",
    "SELECT uid, MAX((strftime('%s', first_commit_ts) - d.deadlines)/3600) as df_max\n",
    "FROM test t\n",
    "LEFT JOIN deadlines d on t.labname = d.labs\n",
    "WHERE labname != 'project1'\n",
    "\"\"\"\n",
    "\n",
    "df_max = pd.read_sql(sql, con)\n",
    "print(df_max)"
   ]
  },
  {
   "cell_type": "markdown",
   "id": "b9f4dad2",
   "metadata": {},
   "source": [
    "#### Do the same thing but for the average, using only one query, this time your dataframe should not include the uid column, and the dataframe name is df_avg"
   ]
  },
  {
   "cell_type": "code",
   "execution_count": 7,
   "id": "d380ca8c",
   "metadata": {},
   "outputs": [
    {
     "name": "stdout",
     "output_type": "stream",
     "text": [
      "   df_avg\n",
      "0 -89.125\n"
     ]
    }
   ],
   "source": [
    "sql = \"\"\"\n",
    "SELECT avg((strftime('%s', first_commit_ts) - d.deadlines)/3600) as df_avg\n",
    "FROM test t\n",
    "LEFT JOIN deadlines d on t.labname = d.labs\n",
    "WHERE labname != 'project1'\n",
    "\"\"\"\n",
    "\n",
    "df_avg = pd.read_sql(sql, con)\n",
    "print(df_avg)"
   ]
  },
  {
   "cell_type": "markdown",
   "id": "4fa73b99",
   "metadata": {},
   "source": [
    "#### You need to calculate the correlation coefficient between the number of pageviews and the difference"
   ]
  },
  {
   "cell_type": "code",
   "execution_count": 8,
   "id": "f8af5a6b",
   "metadata": {},
   "outputs": [
    {
     "name": "stdout",
     "output_type": "stream",
     "text": [
      "        uid    avg_diff  pageviews\n",
      "0    user_1  -65.119778        140\n",
      "1   user_10  -75.242444        445\n",
      "2   user_14 -159.568796        429\n",
      "3   user_17  -62.207667        235\n",
      "4   user_18   -6.368148          9\n",
      "5   user_19  -99.440417         64\n",
      "6   user_21  -96.111181         40\n",
      "7   user_25  -93.474944        895\n",
      "8   user_28  -86.793833        745\n",
      "9    user_3 -105.738222       1585\n",
      "10  user_30 -145.528681         12\n",
      "-0.1850\n"
     ]
    }
   ],
   "source": [
    "sql = \"\"\"\n",
    "WITH user_data AS (\n",
    "    SELECT \n",
    "        t.uid,\n",
    "        AVG((strftime('%s', t.first_commit_ts) - d.deadlines)/3600.0) AS avg_diff,\n",
    "        COUNT(datetime) AS pageviews\n",
    "    FROM test t\n",
    "    LEFT JOIN deadlines d ON t.labname = d.labs\n",
    "    LEFT JOIN pageviews p ON p.uid = t.uid\n",
    "    WHERE t.labname != 'project1'\n",
    "    GROUP BY t.uid\n",
    ")\n",
    "SELECT \n",
    "    uid,\n",
    "    avg_diff,\n",
    "    pageviews\n",
    "FROM user_data \n",
    "\"\"\"\n",
    "views_diff = pd.read_sql(sql, con)\n",
    "print(views_diff)\n",
    "correlation = views_diff[['pageviews', 'avg_diff']].corr().iloc[0, 1]\n",
    "print(f\"{correlation:.4f}\")"
   ]
  },
  {
   "cell_type": "code",
   "execution_count": 9,
   "id": "02a963bd",
   "metadata": {},
   "outputs": [],
   "source": [
    "con.close()"
   ]
  }
 ],
 "metadata": {
  "kernelspec": {
   "display_name": ".venv",
   "language": "python",
   "name": "python3"
  },
  "language_info": {
   "codemirror_mode": {
    "name": "ipython",
    "version": 3
   },
   "file_extension": ".py",
   "mimetype": "text/x-python",
   "name": "python",
   "nbconvert_exporter": "python",
   "pygments_lexer": "ipython3",
   "version": "3.13.3"
  }
 },
 "nbformat": 4,
 "nbformat_minor": 5
}
