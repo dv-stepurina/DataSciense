{
 "cells": [
  {
   "cell_type": "code",
   "execution_count": 1,
   "id": "61dcd850",
   "metadata": {},
   "outputs": [],
   "source": [
    "import pandas as pd\n",
    "import sqlite3"
   ]
  },
  {
   "cell_type": "markdown",
   "id": "bb0d2850",
   "metadata": {},
   "source": [
    "#### Create a connection to the database using the library sqlite3"
   ]
  },
  {
   "cell_type": "code",
   "execution_count": 2,
   "id": "828df385",
   "metadata": {},
   "outputs": [],
   "source": [
    "con = sqlite3.connect('../../datasets/checking-logs.sqlite')"
   ]
  },
  {
   "cell_type": "markdown",
   "id": "a441c62d",
   "metadata": {},
   "source": [
    "#### Get the schema of the table pageviews using pd.io.sql.read_sql and the query \"PRAGMA table_info(pageviews);\""
   ]
  },
  {
   "cell_type": "code",
   "execution_count": 3,
   "id": "6beee753",
   "metadata": {},
   "outputs": [
    {
     "name": "stdout",
     "output_type": "stream",
     "text": [
      "   cid      name       type  notnull dflt_value  pk\n",
      "0    0     index    INTEGER        0       None   0\n",
      "1    1       uid       TEXT        0       None   0\n",
      "2    2  datetime  TIMESTAMP        0       None   0\n"
     ]
    }
   ],
   "source": [
    "print(pd.io.sql.read_sql(\"PRAGMA table_info(pageviews)\", con))"
   ]
  },
  {
   "cell_type": "markdown",
   "id": "c292311f",
   "metadata": {},
   "source": [
    "* get the subtable using only one query where:\n",
    "  * only uid and datetime are used\n",
    "  * only user data (user_*) is used and not admin data\n",
    "  * it is sorted by uid in ascending order\n",
    "  * the index column is datetime\n",
    "  * datetime is converted to DatetimeIndex\n",
    "  * the name of the dataframe is pageviews\n"
   ]
  },
  {
   "cell_type": "code",
   "execution_count": 4,
   "id": "7f5ef213",
   "metadata": {},
   "outputs": [
    {
     "name": "stdout",
     "output_type": "stream",
     "text": [
      "                                uid\n",
      "datetime                           \n",
      "2020-04-26 21:53:59.624136   user_1\n",
      "2020-04-26 22:06:19.478143   user_1\n",
      "2020-04-26 22:12:09.614497   user_1\n",
      "2020-04-30 19:29:01.831635   user_1\n",
      "2020-05-05 20:26:32.894852   user_1\n",
      "...                             ...\n",
      "2020-04-29 16:51:21.877630  user_30\n",
      "2020-05-09 20:30:47.034282  user_30\n",
      "2020-05-22 11:30:18.368990   user_5\n",
      "2020-05-21 16:28:28.217529   user_9\n",
      "2020-05-21 16:36:40.915488   user_9\n",
      "\n",
      "[987 rows x 1 columns]\n",
      "<class 'pandas.core.indexes.datetimes.DatetimeIndex'>\n"
     ]
    }
   ],
   "source": [
    "sql = \"\"\"\n",
    "SELECT uid, datetime\n",
    "FROM pageviews\n",
    "WHERE uid LIKE \"user_%\"\n",
    "ORDER BY uid \n",
    "\"\"\"\n",
    "pageviews = pd.read_sql(\n",
    "    sql,\n",
    "    con,\n",
    "    parse_dates=['datetime'],\n",
    "    index_col='datetime'\n",
    "    )\n",
    "print(pageviews)\n",
    "print(type(pageviews.index))  "
   ]
  },
  {
   "cell_type": "markdown",
   "id": "3f338046",
   "metadata": {},
   "source": [
    "#### Close the connection to the database"
   ]
  },
  {
   "cell_type": "code",
   "execution_count": 5,
   "id": "fb57dd21",
   "metadata": {},
   "outputs": [],
   "source": [
    "con.close()"
   ]
  }
 ],
 "metadata": {
  "kernelspec": {
   "display_name": ".venv",
   "language": "python",
   "name": "python3"
  },
  "language_info": {
   "codemirror_mode": {
    "name": "ipython",
    "version": 3
   },
   "file_extension": ".py",
   "mimetype": "text/x-python",
   "name": "python",
   "nbconvert_exporter": "python",
   "pygments_lexer": "ipython3",
   "version": "3.13.3"
  }
 },
 "nbformat": 4,
 "nbformat_minor": 5
}
