{
 "cells": [
  {
   "cell_type": "code",
   "execution_count": 1,
   "id": "0c55fe1c",
   "metadata": {},
   "outputs": [],
   "source": [
    "import pandas as pd\n",
    "import sqlite3"
   ]
  },
  {
   "cell_type": "markdown",
   "id": "f29c0cf5",
   "metadata": {},
   "source": [
    "#### Create a connection to the database using the library sqlite3"
   ]
  },
  {
   "cell_type": "code",
   "execution_count": 2,
   "id": "b77707d3",
   "metadata": {},
   "outputs": [],
   "source": [
    "con = sqlite3.connect('../../datasets/checking-logs.sqlite')"
   ]
  },
  {
   "cell_type": "markdown",
   "id": "991fe40f",
   "metadata": {},
   "source": [
    "#### Get the schema of the table checker"
   ]
  },
  {
   "cell_type": "code",
   "execution_count": 3,
   "id": "76bb9609",
   "metadata": {},
   "outputs": [
    {
     "name": "stdout",
     "output_type": "stream",
     "text": [
      "Empty DataFrame\n",
      "Columns: [cid, name, type, notnull, dflt_value, pk]\n",
      "Index: []\n"
     ]
    }
   ],
   "source": [
    "print(pd.read_sql(\"PRAGMA table_info(checkers)\", con))"
   ]
  },
  {
   "cell_type": "markdown",
   "id": "90b085a5",
   "metadata": {},
   "source": [
    "#### Get only the first 10 rows of the table checker to check what the table looks like"
   ]
  },
  {
   "cell_type": "code",
   "execution_count": 4,
   "id": "f84c0ae0",
   "metadata": {},
   "outputs": [
    {
     "name": "stdout",
     "output_type": "stream",
     "text": [
      "   index    status  success                   timestamp  numTrials   labname  \\\n",
      "0      0  checking        0  2020-04-16 21:12:50.740474          5      None   \n",
      "1      1     ready        0  2020-04-16 21:12:54.708365          5  code_rvw   \n",
      "2      2  checking        0  2020-04-16 21:46:47.769088          7      None   \n",
      "3      3     ready        0  2020-04-16 21:46:48.121217          7     lab02   \n",
      "4      4  checking        0  2020-04-16 21:53:01.862637          6  code_rvw   \n",
      "5      5     ready        0  2020-04-16 21:53:05.373389          6  code_rvw   \n",
      "6      6  checking        0  2020-04-17 05:18:51.965864          1      None   \n",
      "7      7     ready        0  2020-04-17 05:19:02.744528          1  project1   \n",
      "8      8  checking        0  2020-04-17 05:22:35.249331          2  project1   \n",
      "9      9     ready        1  2020-04-17 05:22:45.549397          2  project1   \n",
      "\n",
      "       uid  \n",
      "0  admin_1  \n",
      "1  admin_1  \n",
      "2  admin_1  \n",
      "3  admin_1  \n",
      "4  admin_1  \n",
      "5  admin_1  \n",
      "6     None  \n",
      "7   user_4  \n",
      "8   user_4  \n",
      "9   user_4  \n"
     ]
    }
   ],
   "source": [
    "sql = \"\"\"\n",
    "SELECT *\n",
    "FROM checker\n",
    "LIMIT 10\n",
    "\"\"\"\n",
    "print(pd.read_sql(sql, con))"
   ]
  },
  {
   "cell_type": "markdown",
   "id": "10d135bd",
   "metadata": {},
   "source": [
    "#### count how many rows satisfy the following conditions using only one query with any number of subqueries:\n",
    "  * count the rows from the pageviews table but only with users from the checker\n",
    "  table with:\n",
    "    * status = ’ready’, we do not want to analyze the logs that are in\n",
    "    status\n",
    "    checking\n",
    "    * numTrials = 1, we want to analyze only the first commits,\n",
    "    because only\n",
    "    they can tell us when a student started working on a lab\n",
    "    * labnames should be from the list: ’laba04’, ’laba04s’, ’laba05’,\n",
    "    ’laba06’,\n",
    "    ’laba06s’, ’project1’. Only they were active during the experiment\n",
    "  * store in the dataframe checkers with the column cnt"
   ]
  },
  {
   "cell_type": "code",
   "execution_count": 5,
   "id": "7083302a",
   "metadata": {},
   "outputs": [
    {
     "name": "stdout",
     "output_type": "stream",
     "text": [
      "    cnt\n",
      "0  3205\n"
     ]
    }
   ],
   "source": [
    "sql = \"\"\"\n",
    "WITH filt_checkers AS\n",
    "    (SELECT *\n",
    "    FROM checker\n",
    "    WHERE \n",
    "    status = 'ready'\n",
    "    AND NumTrials = 1\n",
    "    AND labname IN ('laba04', 'laba04s', 'laba05', 'laba06', 'laba06s', 'project1'))\n",
    "SELECT COUNT(*) AS cnt\n",
    "FROM checker\n",
    "WHERE uid IN \n",
    "    (SELECT uid \n",
    "    FROM filt_checkers)\n",
    "\"\"\"\n",
    "checkers = pd.read_sql(sql, con)\n",
    "print(pd.read_sql(sql, con))"
   ]
  },
  {
   "cell_type": "markdown",
   "id": "1c72dbaf",
   "metadata": {},
   "source": [
    "#### Close the connection"
   ]
  },
  {
   "cell_type": "code",
   "execution_count": 6,
   "id": "cb79e174",
   "metadata": {},
   "outputs": [],
   "source": [
    "con.close()"
   ]
  }
 ],
 "metadata": {
  "kernelspec": {
   "display_name": ".venv",
   "language": "python",
   "name": "python3"
  },
  "language_info": {
   "codemirror_mode": {
    "name": "ipython",
    "version": 3
   },
   "file_extension": ".py",
   "mimetype": "text/x-python",
   "name": "python",
   "nbconvert_exporter": "python",
   "pygments_lexer": "ipython3",
   "version": "3.13.3"
  }
 },
 "nbformat": 4,
 "nbformat_minor": 5
}
