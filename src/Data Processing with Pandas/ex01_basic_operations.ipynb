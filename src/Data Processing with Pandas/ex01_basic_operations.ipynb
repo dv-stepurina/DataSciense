{
 "cells": [
  {
   "cell_type": "code",
   "execution_count": 8,
   "id": "8e58204e",
   "metadata": {},
   "outputs": [],
   "source": [
    "import pandas as pd"
   ]
  },
  {
   "cell_type": "markdown",
   "id": "4b47d194",
   "metadata": {},
   "source": [
    "### Create a dataframe views with two columns: datetime and user by reading feed-views.log"
   ]
  },
  {
   "cell_type": "code",
   "execution_count": 9,
   "id": "e0df176c",
   "metadata": {},
   "outputs": [
    {
     "name": "stdout",
     "output_type": "stream",
     "text": [
      "datetime    object\n",
      "users       object\n",
      "dtype: object\n"
     ]
    }
   ],
   "source": [
    "views = pd.read_csv(\n",
    "    '../../datasets/feed-views.log',\n",
    "    sep='\\t',\n",
    "    names=['datetime','users'],\n",
    ")\n",
    "print(views.dtypes)"
   ]
  },
  {
   "cell_type": "markdown",
   "id": "d307a5a0",
   "metadata": {},
   "source": [
    "### Convert the datetime to the datetime64[ns] Dtype"
   ]
  },
  {
   "cell_type": "code",
   "execution_count": 10,
   "id": "fea126d4",
   "metadata": {},
   "outputs": [
    {
     "name": "stdout",
     "output_type": "stream",
     "text": [
      "datetime    datetime64[ns]\n",
      "users               object\n",
      "dtype: object\n"
     ]
    }
   ],
   "source": [
    "views['datetime'] = pd.to_datetime(views['datetime'])\n",
    "print(views.dtypes)"
   ]
  },
  {
   "cell_type": "markdown",
   "id": "6d5c6b81",
   "metadata": {},
   "source": [
    "### Extract the year, month, day, hour, minute, and second from the values of that column to the new columns"
   ]
  },
  {
   "cell_type": "code",
   "execution_count": 11,
   "id": "8fd3a437",
   "metadata": {},
   "outputs": [
    {
     "name": "stdout",
     "output_type": "stream",
     "text": [
      "                       datetime      users  year  month  day  hour  minute  \\\n",
      "0    2020-04-17 12:01:08.463179      artem  2020      4   17    12       1   \n",
      "1    2020-04-17 12:01:23.743946      artem  2020      4   17    12       1   \n",
      "2    2020-04-17 12:27:30.646665      artem  2020      4   17    12      27   \n",
      "3    2020-04-17 12:35:44.884757      artem  2020      4   17    12      35   \n",
      "4    2020-04-17 12:35:52.735016      artem  2020      4   17    12      35   \n",
      "...                         ...        ...   ...    ...  ...   ...     ...   \n",
      "1071 2020-05-21 18:45:20.441142  valentina  2020      5   21    18      45   \n",
      "1072 2020-05-21 23:03:06.457819      maxim  2020      5   21    23       3   \n",
      "1073 2020-05-21 23:23:49.995349      pavel  2020      5   21    23      23   \n",
      "1074 2020-05-21 23:49:22.386789      artem  2020      5   21    23      49   \n",
      "1075 2020-05-22 10:36:14.662600      artem  2020      5   22    10      36   \n",
      "\n",
      "      second  \n",
      "0          8  \n",
      "1         23  \n",
      "2         30  \n",
      "3         44  \n",
      "4         52  \n",
      "...      ...  \n",
      "1071      20  \n",
      "1072       6  \n",
      "1073      49  \n",
      "1074      22  \n",
      "1075      14  \n",
      "\n",
      "[1076 rows x 8 columns]\n"
     ]
    }
   ],
   "source": [
    "views['year'] = views['datetime'].dt.year\n",
    "views['month'] = views['datetime'].dt.month\n",
    "views['day'] = views['datetime'].dt.day\n",
    "views['hour'] = views['datetime'].dt.hour\n",
    "views['minute'] = views['datetime'].dt.minute\n",
    "views['second'] = views['datetime'].dt.second\n",
    "print(views)"
   ]
  },
  {
   "cell_type": "markdown",
   "id": "423f493a",
   "metadata": {},
   "source": [
    "### Create the new column daytime (\"names like night, morning, etc.\")"
   ]
  },
  {
   "cell_type": "code",
   "execution_count": 12,
   "id": "f0ac8c3b",
   "metadata": {},
   "outputs": [
    {
     "name": "stdout",
     "output_type": "stream",
     "text": [
      "                            datetime  year  month  day  hour  minute  second  \\\n",
      "users                                                                          \n",
      "artem     2020-04-17 12:01:08.463179  2020      4   17    12       1       8   \n",
      "artem     2020-04-17 12:01:23.743946  2020      4   17    12       1      23   \n",
      "artem     2020-04-17 12:27:30.646665  2020      4   17    12      27      30   \n",
      "artem     2020-04-17 12:35:44.884757  2020      4   17    12      35      44   \n",
      "artem     2020-04-17 12:35:52.735016  2020      4   17    12      35      52   \n",
      "...                              ...   ...    ...  ...   ...     ...     ...   \n",
      "valentina 2020-05-21 18:45:20.441142  2020      5   21    18      45      20   \n",
      "maxim     2020-05-21 23:03:06.457819  2020      5   21    23       3       6   \n",
      "pavel     2020-05-21 23:23:49.995349  2020      5   21    23      23      49   \n",
      "artem     2020-05-21 23:49:22.386789  2020      5   21    23      49      22   \n",
      "artem     2020-05-22 10:36:14.662600  2020      5   22    10      36      14   \n",
      "\n",
      "                 daytime  \n",
      "users                     \n",
      "artem          afternoon  \n",
      "artem          afternoon  \n",
      "artem          afternoon  \n",
      "artem          afternoon  \n",
      "artem          afternoon  \n",
      "...                  ...  \n",
      "valentina  early evening  \n",
      "maxim            evening  \n",
      "pavel            evening  \n",
      "artem            evening  \n",
      "artem            morning  \n",
      "\n",
      "[1076 rows x 8 columns]\n"
     ]
    }
   ],
   "source": [
    "bins = [-1, 4, 7, 11, 17, 20, 24]  \n",
    "labels = ['night', 'early morning', 'morning', 'afternoon', 'early evening', 'evening']\n",
    "views['daytime'] = pd.cut(views.hour,\n",
    "                      bins=bins,\n",
    "                      labels=labels,\n",
    "                    )\n",
    "try:\n",
    "    views = views.set_index('users')\n",
    "except KeyError:\n",
    "    print('\"users\" уже установлен как индекс')\n",
    "  \n",
    "print(views)"
   ]
  },
  {
   "cell_type": "markdown",
   "id": "e3ff7392",
   "metadata": {},
   "source": [
    "### Calculate the number of elements in your dataframe"
   ]
  },
  {
   "cell_type": "code",
   "execution_count": 13,
   "id": "c75c4943",
   "metadata": {},
   "outputs": [
    {
     "name": "stdout",
     "output_type": "stream",
     "text": [
      "datetime    1076\n",
      "year        1076\n",
      "month       1076\n",
      "day         1076\n",
      "hour        1076\n",
      "minute      1076\n",
      "second      1076\n",
      "daytime     1076\n",
      "dtype: int64\n",
      "daytime\n",
      "evening          445\n",
      "afternoon        279\n",
      "early evening    144\n",
      "night            134\n",
      "morning           74\n",
      "early morning      0\n",
      "Name: count, dtype: int64\n"
     ]
    }
   ],
   "source": [
    "count = views.count()\n",
    "print(count)\n",
    "print(views['daytime'].value_counts())"
   ]
  },
  {
   "cell_type": "markdown",
   "id": "e99b0823",
   "metadata": {},
   "source": [
    "### Sort values in your dataframe by hour, minute, and second in ascending order (simultaneously and not one by one)"
   ]
  },
  {
   "cell_type": "code",
   "execution_count": 14,
   "id": "fe00df96",
   "metadata": {},
   "outputs": [
    {
     "name": "stdout",
     "output_type": "stream",
     "text": [
      "                            datetime  year  month  day  hour  minute  second  \\\n",
      "users                                                                          \n",
      "artem     2020-04-17 12:01:08.463179  2020      4   17    12       1       8   \n",
      "artem     2020-04-17 12:01:23.743946  2020      4   17    12       1      23   \n",
      "artem     2020-04-17 12:27:30.646665  2020      4   17    12      27      30   \n",
      "artem     2020-04-17 12:35:44.884757  2020      4   17    12      35      44   \n",
      "artem     2020-04-17 12:35:52.735016  2020      4   17    12      35      52   \n",
      "...                              ...   ...    ...  ...   ...     ...     ...   \n",
      "valentina 2020-05-21 18:45:20.441142  2020      5   21    18      45      20   \n",
      "maxim     2020-05-21 23:03:06.457819  2020      5   21    23       3       6   \n",
      "pavel     2020-05-21 23:23:49.995349  2020      5   21    23      23      49   \n",
      "artem     2020-05-21 23:49:22.386789  2020      5   21    23      49      22   \n",
      "artem     2020-05-22 10:36:14.662600  2020      5   22    10      36      14   \n",
      "\n",
      "                 daytime  \n",
      "users                     \n",
      "artem          afternoon  \n",
      "artem          afternoon  \n",
      "artem          afternoon  \n",
      "artem          afternoon  \n",
      "artem          afternoon  \n",
      "...                  ...  \n",
      "valentina  early evening  \n",
      "maxim            evening  \n",
      "pavel            evening  \n",
      "artem            evening  \n",
      "artem            morning  \n",
      "\n",
      "[1076 rows x 8 columns]\n"
     ]
    }
   ],
   "source": [
    "sorted_views = views.sort_values(by=['hour', 'minute', 'second'])\n",
    "print(views)"
   ]
  },
  {
   "cell_type": "markdown",
   "id": "b6546eab",
   "metadata": {},
   "source": [
    "### Calculate the minimum and maximum for the hours and the mode for the daytime categories"
   ]
  },
  {
   "cell_type": "code",
   "execution_count": 15,
   "id": "a155917b",
   "metadata": {},
   "outputs": [
    {
     "name": "stdout",
     "output_type": "stream",
     "text": [
      "4 8 22 evening datetime    2020-05-10 04:08:53.496691\n",
      "year                              2020\n",
      "month                                5\n",
      "day                                 10\n",
      "hour                                 4\n",
      "minute                               8\n",
      "second                              53\n",
      "daytime                          night\n",
      "Name: konstantin, dtype: object datetime    2020-05-15 08:16:03.918402\n",
      "year                              2020\n",
      "month                                5\n",
      "day                                 15\n",
      "hour                                 8\n",
      "minute                              16\n",
      "second                               3\n",
      "daytime                        morning\n",
      "Name: alexander, dtype: object\n"
     ]
    }
   ],
   "source": [
    "max_night_hour = views[views['daytime'] == 'night']['hour'].max()\n",
    "min_morning_hour = views[views['daytime'] == 'morning']['hour'].min()\n",
    "hour_mode = views['hour'].mode()[0]\n",
    "day_mode = views['daytime'].mode()[0]\n",
    "\n",
    "# Пример пользователя для каждого случая\n",
    "example_night_user = views[views['hour'] == max_night_hour].iloc[0]\n",
    "example_morning_user = views[views['hour'] == min_morning_hour].iloc[0]\n",
    "print(max_night_hour, min_morning_hour, hour_mode, day_mode, example_night_user, example_morning_user)"
   ]
  },
  {
   "cell_type": "markdown",
   "id": "bd26e52a",
   "metadata": {},
   "source": [
    "### Show the 3 earliest hours in the morning and the corresponding usernames and the 3 latest hours and the usernames"
   ]
  },
  {
   "cell_type": "code",
   "execution_count": 16,
   "id": "fe7a845f",
   "metadata": {},
   "outputs": [
    {
     "name": "stdout",
     "output_type": "stream",
     "text": [
      "users\n",
      "alexander    8\n",
      "alexander    8\n",
      "artem        9\n",
      "Name: hour, dtype: int32 users\n",
      "artem    11\n",
      "artem    11\n",
      "artem    11\n",
      "Name: hour, dtype: int32\n"
     ]
    }
   ],
   "source": [
    "morning_views = views[views['daytime'] == 'morning']['hour']\n",
    "earliest = morning_views.nsmallest(3)\n",
    "latest = morning_views.nlargest(3)\n",
    "print(earliest, latest)"
   ]
  },
  {
   "cell_type": "markdown",
   "id": "a6a07eda",
   "metadata": {},
   "source": [
    "### Use the method describe() to get the basic statistics for the columns"
   ]
  },
  {
   "cell_type": "code",
   "execution_count": 17,
   "id": "2e331c83",
   "metadata": {},
   "outputs": [
    {
     "name": "stdout",
     "output_type": "stream",
     "text": [
      "9.0\n",
      "Most popular visiting hours: 13:00 - 22:00\n"
     ]
    }
   ],
   "source": [
    "hour_stats = views['hour'].describe()\n",
    "iqr = hour_stats['75%'] - hour_stats['25%']  # IQR = Q3 - Q1\n",
    "print(iqr)\n",
    "popular_start = hour_stats['25%']\n",
    "popular_end = hour_stats['75%']\n",
    "print(f\"Most popular visiting hours: {popular_start:.0f}:00 - {popular_end:.0f}:00\")"
   ]
  },
  {
   "cell_type": "code",
   "execution_count": 18,
   "id": "36d34547",
   "metadata": {},
   "outputs": [
    {
     "data": {
      "text/plain": [
       "'konstantin'"
      ]
     },
     "execution_count": 18,
     "metadata": {},
     "output_type": "execute_result"
    }
   ],
   "source": [
    "views.loc[views.daytime == 'night'].hour.idxmax()"
   ]
  }
 ],
 "metadata": {
  "kernelspec": {
   "display_name": ".venv",
   "language": "python",
   "name": "python3"
  },
  "language_info": {
   "codemirror_mode": {
    "name": "ipython",
    "version": 3
   },
   "file_extension": ".py",
   "mimetype": "text/x-python",
   "name": "python",
   "nbconvert_exporter": "python",
   "pygments_lexer": "ipython3",
   "version": "3.13.3"
  }
 },
 "nbformat": 4,
 "nbformat_minor": 5
}
