{
 "cells": [
  {
   "cell_type": "markdown",
   "id": "ebc9fb06",
   "metadata": {},
   "source": [
    "## Preprocessing"
   ]
  },
  {
   "cell_type": "code",
   "execution_count": 1,
   "id": "48691ffe",
   "metadata": {},
   "outputs": [],
   "source": [
    "import pandas as pd"
   ]
  },
  {
   "cell_type": "markdown",
   "id": "73b123a8",
   "metadata": {},
   "source": [
    "### Make ID the index column"
   ]
  },
  {
   "cell_type": "code",
   "execution_count": 2,
   "id": "f0afa879",
   "metadata": {},
   "outputs": [
    {
     "name": "stdout",
     "output_type": "stream",
     "text": [
      "        CarNumber    Make_n_model  Refund    Fines  History\n",
      "ID                                                         \n",
      "0    Y163O8161RUS      Ford Focus     2.0   3200.0      NaN\n",
      "1     E432XX77RUS    Toyota Camry     1.0   6500.0      NaN\n",
      "2     7184TT36RUS      Ford Focus     1.0   2100.0      NaN\n",
      "3    X582HE161RUS      Ford Focus     2.0   2000.0      NaN\n",
      "4    E34877152RUS      Ford Focus     2.0   6100.0      NaN\n",
      "..            ...             ...     ...      ...      ...\n",
      "926  Y163O8161RUS      Ford Focus     2.0   1600.0      NaN\n",
      "927  M0309X197RUS      Ford Focus     1.0  22300.0      NaN\n",
      "928  O673E8197RUS      Ford Focus     2.0    600.0      NaN\n",
      "929  8610T8154RUS      Ford Focus     1.0   2000.0      NaN\n",
      "930  H419XE197RUS  Toyota Corolla     2.0      NaN      2.0\n",
      "\n",
      "[931 rows x 5 columns]\n"
     ]
    }
   ],
   "source": [
    "views = pd.read_csv(\n",
    "    '../../datasets/auto.csv',\n",
    "    sep=',',\n",
    "    header=0,\n",
    "    index_col='ID'\n",
    ")\n",
    "print(views)"
   ]
  },
  {
   "cell_type": "markdown",
   "id": "bc0c6c36",
   "metadata": {},
   "source": [
    "### Count the number of observations using the method count()"
   ]
  },
  {
   "cell_type": "code",
   "execution_count": 3,
   "id": "4f8f91ec",
   "metadata": {},
   "outputs": [
    {
     "name": "stdout",
     "output_type": "stream",
     "text": [
      "931\n"
     ]
    }
   ],
   "source": [
    "print(views['CarNumber'].count())"
   ]
  },
  {
   "cell_type": "markdown",
   "id": "7c16c23e",
   "metadata": {},
   "source": [
    "### Drop the duplicates, taking into account only the following columns: CarNumber, Make_n_model, Fines"
   ]
  },
  {
   "cell_type": "code",
   "execution_count": 4,
   "id": "2e0589e5",
   "metadata": {},
   "outputs": [
    {
     "name": "stdout",
     "output_type": "stream",
     "text": [
      "725\n"
     ]
    }
   ],
   "source": [
    "views = views.drop_duplicates(\n",
    "    subset=['CarNumber', 'Make_n_model', 'Fines'], \n",
    "    keep='last'\n",
    ")\n",
    "print(views['CarNumber'].count())"
   ]
  },
  {
   "cell_type": "markdown",
   "id": "3a19332f",
   "metadata": {},
   "source": [
    "### Work with missing values"
   ]
  },
  {
   "cell_type": "code",
   "execution_count": 5,
   "id": "2b1ddd7d",
   "metadata": {},
   "outputs": [
    {
     "name": "stdout",
     "output_type": "stream",
     "text": [
      "CarNumber         0\n",
      "Make_n_model      0\n",
      "Refund           12\n",
      "Fines            60\n",
      "History         660\n",
      "dtype: int64\n",
      "CarNumber        0\n",
      "Make_n_model     0\n",
      "Refund          12\n",
      "Fines           60\n",
      "dtype: int64\n",
      "CarNumber       0\n",
      "Make_n_model    0\n",
      "Refund          0\n",
      "Fines           0\n",
      "dtype: int64\n"
     ]
    }
   ],
   "source": [
    "print(views.isna().sum())\n",
    "views = views.dropna(axis='columns', thresh=len(views)-500)\n",
    "print(views.isna().sum())\n",
    "views['Refund'] = views['Refund'].fillna(views['Fines'].ffill()) #forward fill\n",
    "views['Fines'] = views['Fines'].fillna(views['Fines'].mean())\n",
    "print(views.isna().sum())"
   ]
  },
  {
   "cell_type": "markdown",
   "id": "30b95c5c",
   "metadata": {},
   "source": [
    "### Split and parse the make and model"
   ]
  },
  {
   "cell_type": "code",
   "execution_count": 6,
   "id": "0ab011ea",
   "metadata": {},
   "outputs": [
    {
     "name": "stdout",
     "output_type": "stream",
     "text": [
      "        CarNumber  Refund         Fines    Make    Model\n",
      "ID                                                      \n",
      "0    Y163O8161RUS     2.0   3200.000000    Ford    Focus\n",
      "1     E432XX77RUS     1.0   6500.000000  Toyota    Camry\n",
      "2     7184TT36RUS     1.0   2100.000000    Ford    Focus\n",
      "3    X582HE161RUS     2.0   2000.000000    Ford    Focus\n",
      "5    92918M178RUS     1.0   5700.000000    Ford    Focus\n",
      "..            ...     ...           ...     ...      ...\n",
      "926  Y163O8161RUS     2.0   1600.000000    Ford    Focus\n",
      "927  M0309X197RUS     1.0  22300.000000    Ford    Focus\n",
      "928  O673E8197RUS     2.0    600.000000    Ford    Focus\n",
      "929  8610T8154RUS     1.0   2000.000000    Ford    Focus\n",
      "930  H419XE197RUS     2.0   8594.586466  Toyota  Corolla\n",
      "\n",
      "[725 rows x 5 columns]\n"
     ]
    }
   ],
   "source": [
    "views[['Make', 'Model']] = views['Make_n_model'].apply(\n",
    "    lambda x: pd.Series(str(x).split(' ', 1)))\n",
    "views = views.drop(columns=['Make_n_model'])\n",
    "print(views)\n",
    "\n"
   ]
  },
  {
   "cell_type": "code",
   "execution_count": 7,
   "id": "f38f16f0",
   "metadata": {},
   "outputs": [],
   "source": [
    "views.to_json('auto.json', orient='records')"
   ]
  },
  {
   "cell_type": "code",
   "execution_count": 8,
   "id": "6b42bbce",
   "metadata": {},
   "outputs": [
    {
     "name": "stdout",
     "output_type": "stream",
     "text": [
      "CarNumber    725\n",
      "Refund       725\n",
      "Fines        725\n",
      "Make         725\n",
      "Model        716\n",
      "dtype: int64\n",
      "8594.586466165412\n"
     ]
    }
   ],
   "source": [
    "print(views.count())\n",
    "print(views['Fines'].mean())"
   ]
  }
 ],
 "metadata": {
  "kernelspec": {
   "display_name": ".venv",
   "language": "python",
   "name": "python3"
  },
  "language_info": {
   "codemirror_mode": {
    "name": "ipython",
    "version": 3
   },
   "file_extension": ".py",
   "mimetype": "text/x-python",
   "name": "python",
   "nbconvert_exporter": "python",
   "pygments_lexer": "ipython3",
   "version": "3.13.3"
  }
 },
 "nbformat": 4,
 "nbformat_minor": 5
}
