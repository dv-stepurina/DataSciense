{
 "cells": [
  {
   "cell_type": "markdown",
   "id": "6717f1c6",
   "metadata": {},
   "source": [
    "## Let's analyze the distribution of fines across all car models."
   ]
  },
  {
   "cell_type": "code",
   "execution_count": 1,
   "id": "6b970315",
   "metadata": {},
   "outputs": [],
   "source": [
    "import pandas as pd"
   ]
  },
  {
   "cell_type": "markdown",
   "id": "44332316",
   "metadata": {},
   "source": [
    "### Load the JSON file that was created in the previous exercise into a dataframe"
   ]
  },
  {
   "cell_type": "code",
   "execution_count": 2,
   "id": "347ed8b2",
   "metadata": {},
   "outputs": [
    {
     "name": "stdout",
     "output_type": "stream",
     "text": [
      "              Refund         Fines    Make    Model\n",
      "CarNumber                                          \n",
      "Y163O8161RUS       2   3200.000000    Ford    Focus\n",
      "E432XX77RUS        1   6500.000000  Toyota    Camry\n",
      "7184TT36RUS        1   2100.000000    Ford    Focus\n",
      "X582HE161RUS       2   2000.000000    Ford    Focus\n",
      "92918M178RUS       1   5700.000000    Ford    Focus\n",
      "...              ...           ...     ...      ...\n",
      "Y163O8161RUS       2   1600.000000    Ford    Focus\n",
      "M0309X197RUS       1  22300.000000    Ford    Focus\n",
      "O673E8197RUS       2    600.000000    Ford    Focus\n",
      "8610T8154RUS       1   2000.000000    Ford    Focus\n",
      "H419XE197RUS       2   8594.586466  Toyota  Corolla\n",
      "\n",
      "[725 rows x 4 columns]\n"
     ]
    }
   ],
   "source": [
    "views = pd.read_json('auto.json')\n",
    "views = views.set_index('CarNumber')\n",
    "print(views)"
   ]
  },
  {
   "cell_type": "markdown",
   "id": "5d0804a3",
   "metadata": {},
   "source": [
    "### Make the following selects"
   ]
  },
  {
   "cell_type": "markdown",
   "id": "4851ef0b",
   "metadata": {},
   "source": [
    "##### Display the rows only where the fines are more than 2,100"
   ]
  },
  {
   "cell_type": "code",
   "execution_count": 3,
   "id": "0180b7b2",
   "metadata": {},
   "outputs": [
    {
     "name": "stdout",
     "output_type": "stream",
     "text": [
      "              Refund         Fines        Make    Model\n",
      "CarNumber                                              \n",
      "Y163O8161RUS       2   3200.000000        Ford    Focus\n",
      "E432XX77RUS        1   6500.000000      Toyota    Camry\n",
      "92918M178RUS       1   5700.000000        Ford    Focus\n",
      "H234YH197RUS       2   6000.000000        Ford    Focus\n",
      "E40577152RUS       1   8594.586466        Ford    Focus\n",
      "...              ...           ...         ...      ...\n",
      "O718MM163RUS       2   8594.586466        Ford    Focus\n",
      "7065C8197RUS       2  11400.000000  Volkswagen   Passat\n",
      "O22097197RUS       1  24300.000000        Ford    Focus\n",
      "M0309X197RUS       1  22300.000000        Ford    Focus\n",
      "H419XE197RUS       2   8594.586466      Toyota  Corolla\n",
      "\n",
      "[455 rows x 4 columns]\n"
     ]
    }
   ],
   "source": [
    "print(views[views['Fines'] > 2100])\n"
   ]
  },
  {
   "cell_type": "markdown",
   "id": "916e03e9",
   "metadata": {},
   "source": [
    "##### Display the rows only where the fines are more than 2,100 and the refund equals 2"
   ]
  },
  {
   "cell_type": "code",
   "execution_count": 4,
   "id": "0b3ad1df",
   "metadata": {},
   "outputs": [
    {
     "name": "stdout",
     "output_type": "stream",
     "text": [
      "              Refund         Fines        Make    Model\n",
      "CarNumber                                              \n",
      "Y163O8161RUS       2   3200.000000        Ford    Focus\n",
      "H234YH197RUS       2   6000.000000        Ford    Focus\n",
      "707987163RUS       2   2200.000000        Ford    Focus\n",
      "K330T8197RUS       2   8200.000000       Skoda  Octavia\n",
      "M592CH197RUS       2   8594.586466       Skoda  Octavia\n",
      "...              ...           ...         ...      ...\n",
      "O136HO197RUS       2   7800.000000      Toyota  Corolla\n",
      "O68897197RUS       2  12300.000000        Ford    Focus\n",
      "O718MM163RUS       2   8594.586466        Ford    Focus\n",
      "7065C8197RUS       2  11400.000000  Volkswagen   Passat\n",
      "H419XE197RUS       2   8594.586466      Toyota  Corolla\n",
      "\n",
      "[302 rows x 4 columns]\n"
     ]
    }
   ],
   "source": [
    "print(views[(views['Fines'] > 2100) & (views['Refund'] == 2)])"
   ]
  },
  {
   "cell_type": "markdown",
   "id": "47400aba",
   "metadata": {},
   "source": [
    "##### Display the rows only where the models are from the list: [’Focus’, ’Corolla’]"
   ]
  },
  {
   "cell_type": "code",
   "execution_count": 5,
   "id": "ce441656",
   "metadata": {},
   "outputs": [
    {
     "name": "stdout",
     "output_type": "stream",
     "text": [
      "              Refund         Fines    Make    Model\n",
      "CarNumber                                          \n",
      "Y163O8161RUS       2   3200.000000    Ford    Focus\n",
      "7184TT36RUS        1   2100.000000    Ford    Focus\n",
      "X582HE161RUS       2   2000.000000    Ford    Focus\n",
      "92918M178RUS       1   5700.000000    Ford    Focus\n",
      "H234YH197RUS       2   6000.000000    Ford    Focus\n",
      "...              ...           ...     ...      ...\n",
      "Y163O8161RUS       2   1600.000000    Ford    Focus\n",
      "M0309X197RUS       1  22300.000000    Ford    Focus\n",
      "O673E8197RUS       2    600.000000    Ford    Focus\n",
      "8610T8154RUS       1   2000.000000    Ford    Focus\n",
      "H419XE197RUS       2   8594.586466  Toyota  Corolla\n",
      "\n",
      "[593 rows x 4 columns]\n"
     ]
    }
   ],
   "source": [
    "print(views[(views['Model'] == 'Focus') | (views['Model'] == 'Corolla')])"
   ]
  },
  {
   "cell_type": "markdown",
   "id": "93f1fc23",
   "metadata": {},
   "source": [
    "##### Display the rows only where the car number is from the list:\n",
    "###### [’Y7689C197RUS’, ’92928M178RUS’, ’7788KT197RUS’, ’H115YO163RUS’, ’X758HY197RUS’]"
   ]
  },
  {
   "cell_type": "code",
   "execution_count": 6,
   "id": "2102fdb4",
   "metadata": {},
   "outputs": [
    {
     "name": "stdout",
     "output_type": "stream",
     "text": [
      "              Refund          Fines  Make  Model\n",
      "CarNumber                                       \n",
      "Y7689C197RUS       1   27000.000000  Ford  Focus\n",
      "Y7689C197RUS       2    9000.000000  Ford  Focus\n",
      "Y7689C197RUS       2   45000.000000  Ford  Focus\n",
      "Y7689C197RUS       1   36000.000000  Ford  Focus\n",
      "92928M178RUS       1    8594.586466  Ford  Focus\n",
      "92928M178RUS       1     600.000000  Ford  Focus\n",
      "92928M178RUS       1    1200.000000  Ford  Focus\n",
      "92928M178RUS       2    3000.000000  Ford  Focus\n",
      "7788KT197RUS       2   12000.000000  Ford  Focus\n",
      "7788KT197RUS       2    8594.586466  Ford  Focus\n",
      "7788KT197RUS       1   20000.000000  Ford  Focus\n",
      "7788KT197RUS       2    4000.000000  Ford  Focus\n",
      "H115YO163RUS       1    2200.000000  Ford  Focus\n",
      "H115YO163RUS       1    8594.586466  Ford  Focus\n",
      "H115YO163RUS       2    1100.000000  Ford  Focus\n",
      "X758HY197RUS   24200   24200.000000  Ford  Focus\n",
      "X758HY197RUS       2   72600.000000  Ford  Focus\n",
      "X758HY197RUS       2  145200.000000  Ford  Focus\n"
     ]
    }
   ],
   "source": [
    "print(views.loc[['Y7689C197RUS', '92928M178RUS', '7788KT197RUS', 'H115YO163RUS', 'X758HY197RUS']])"
   ]
  },
  {
   "cell_type": "markdown",
   "id": "6e995404",
   "metadata": {},
   "source": [
    "### Make the aggregations with the make and the model"
   ]
  },
  {
   "cell_type": "markdown",
   "id": "152ec854",
   "metadata": {},
   "source": [
    "##### Display the median fines grouped by the make"
   ]
  },
  {
   "cell_type": "code",
   "execution_count": 7,
   "id": "7ee45c1f",
   "metadata": {},
   "outputs": [
    {
     "name": "stdout",
     "output_type": "stream",
     "text": [
      "Make\n",
      "Audi          4200.0\n",
      "BMW           6500.0\n",
      "Ford          3500.0\n",
      "Skoda         3250.0\n",
      "Toyota        7700.0\n",
      "Volkswagen    4300.0\n",
      "Volvo         8500.0\n",
      "Name: Fines, dtype: float64\n"
     ]
    }
   ],
   "source": [
    "print(views.groupby('Make')['Fines'].median())"
   ]
  },
  {
   "cell_type": "markdown",
   "id": "3bff6fe4",
   "metadata": {},
   "source": [
    "#####  Display the median fines grouped by the make and the model"
   ]
  },
  {
   "cell_type": "code",
   "execution_count": 8,
   "id": "c2b2d6c4",
   "metadata": {},
   "outputs": [
    {
     "name": "stdout",
     "output_type": "stream",
     "text": [
      "Make        Model  \n",
      "Ford        Focus      3500.0\n",
      "            Mondeo     7650.0\n",
      "Skoda       Octavia    3250.0\n",
      "Toyota      Camry      7700.0\n",
      "            Corolla    7700.0\n",
      "Volkswagen  Golf       4800.0\n",
      "            Jetta      2800.0\n",
      "            Passat     3500.0\n",
      "            Touareg    5800.0\n",
      "Name: Fines, dtype: float64\n"
     ]
    }
   ],
   "source": [
    "print(views.groupby(['Make', 'Model'])['Fines'].median())"
   ]
  },
  {
   "cell_type": "markdown",
   "id": "a735ce18",
   "metadata": {},
   "source": [
    "#####  Display the number of fines grouped by the make and the model in order to understand if we can trust the median values"
   ]
  },
  {
   "cell_type": "code",
   "execution_count": 9,
   "id": "8a7b4cb4",
   "metadata": {},
   "outputs": [
    {
     "name": "stdout",
     "output_type": "stream",
     "text": [
      "Make        Model  \n",
      "Ford        Focus      575\n",
      "            Mondeo       6\n",
      "Skoda       Octavia     48\n",
      "Toyota      Camry       16\n",
      "            Corolla     18\n",
      "Volkswagen  Golf        20\n",
      "            Jetta        6\n",
      "            Passat      22\n",
      "            Touareg      5\n",
      "Name: Fines, dtype: int64\n"
     ]
    }
   ],
   "source": [
    "print(views.groupby(['Make', 'Model'])['Fines'].count())"
   ]
  },
  {
   "cell_type": "markdown",
   "id": "184eb120",
   "metadata": {},
   "source": [
    "##### Display the minimum and the maximum fines grouped by the make and the model in order to better understand the variance"
   ]
  },
  {
   "cell_type": "code",
   "execution_count": 10,
   "id": "91034c4e",
   "metadata": {},
   "outputs": [
    {
     "name": "stdout",
     "output_type": "stream",
     "text": [
      "Make        Model  \n",
      "Ford        Focus      180000.000000\n",
      "            Mondeo      46200.000000\n",
      "Skoda       Octavia    145000.000000\n",
      "Toyota      Camry       22400.000000\n",
      "            Corolla     34300.000000\n",
      "Volkswagen  Golf       168000.000000\n",
      "            Jetta       46000.000000\n",
      "            Passat      29700.000000\n",
      "            Touareg      8594.586466\n",
      "Name: Fines, dtype: float64\n",
      "Make        Model  \n",
      "Ford        Focus       100.0\n",
      "            Mondeo     1100.0\n",
      "Skoda       Octavia     300.0\n",
      "Toyota      Camry       500.0\n",
      "            Corolla     900.0\n",
      "Volkswagen  Golf        200.0\n",
      "            Jetta       500.0\n",
      "            Passat      100.0\n",
      "            Touareg     500.0\n",
      "Name: Fines, dtype: float64\n"
     ]
    }
   ],
   "source": [
    "print(views.groupby(['Make', 'Model'])['Fines'].max())\n",
    "print(views.groupby(['Make', 'Model'])['Fines'].min())"
   ]
  },
  {
   "cell_type": "markdown",
   "id": "a108a54b",
   "metadata": {},
   "source": [
    "##### Display the standard deviation of the fines grouped by the make and the model in order to better understand the variance"
   ]
  },
  {
   "cell_type": "code",
   "execution_count": 11,
   "id": "eeff356e",
   "metadata": {},
   "outputs": [
    {
     "data": {
      "text/plain": [
       "Make        Model  \n",
       "Ford        Focus      15041.269437\n",
       "            Mondeo     18987.329108\n",
       "Skoda       Octavia    24339.742174\n",
       "Toyota      Camry       6410.250654\n",
       "            Corolla     9629.325617\n",
       "Volkswagen  Golf       36950.839950\n",
       "            Jetta      17743.026799\n",
       "            Passat      6969.739135\n",
       "            Touareg     3461.778173\n",
       "Name: Fines, dtype: float64"
      ]
     },
     "execution_count": 11,
     "metadata": {},
     "output_type": "execute_result"
    }
   ],
   "source": [
    "views.groupby(['Make', 'Model'])['Fines'].std()"
   ]
  },
  {
   "cell_type": "markdown",
   "id": "aacb2f39",
   "metadata": {},
   "source": [
    "### Make the aggregations with the car number"
   ]
  },
  {
   "cell_type": "markdown",
   "id": "3225643f",
   "metadata": {},
   "source": [
    "##### Display the car numbers grouped by the number of the fines in descending order, we want to find those who most often violated the law"
   ]
  },
  {
   "cell_type": "code",
   "execution_count": 12,
   "id": "c5958adc",
   "metadata": {},
   "outputs": [
    {
     "name": "stdout",
     "output_type": "stream",
     "text": [
      "CarNumber\n",
      "Y7689C197RUS    4\n",
      "92928M178RUS    4\n",
      "7788KT197RUS    4\n",
      "X015HY197RUS    3\n",
      "7830C8197RUS    3\n",
      "               ..\n",
      "Y965O8197RUS    1\n",
      "Y164O8161RUS    1\n",
      "C420X938RUS     1\n",
      "M942OT152RUS    1\n",
      "8610T8154RUS    1\n",
      "Name: count, Length: 531, dtype: int64\n"
     ]
    }
   ],
   "source": [
    "val_count =views.index.value_counts().sort_values(ascending=False)\n",
    "print(val_count)"
   ]
  },
  {
   "cell_type": "markdown",
   "id": "f23d5c43",
   "metadata": {},
   "source": [
    "##### Select from the initial dataframe all the rows corresponding to the top-1 car number, we want to zoom in a little bit"
   ]
  },
  {
   "cell_type": "code",
   "execution_count": 13,
   "id": "517505f3",
   "metadata": {},
   "outputs": [
    {
     "name": "stdout",
     "output_type": "stream",
     "text": [
      "CarNumber\n",
      "Y7689C197RUS    4\n",
      "92928M178RUS    4\n",
      "7788KT197RUS    4\n",
      "Name: count, dtype: int64\n"
     ]
    }
   ],
   "source": [
    "print(val_count[val_count == val_count.max()])"
   ]
  },
  {
   "cell_type": "markdown",
   "id": "ec4eb0b6",
   "metadata": {},
   "source": [
    "##### Display the car numbers grouped by the sum of the fines in descending order, we want to find those who paid the most"
   ]
  },
  {
   "cell_type": "code",
   "execution_count": 14,
   "id": "e88852b7",
   "metadata": {},
   "outputs": [
    {
     "name": "stdout",
     "output_type": "stream",
     "text": [
      "CarNumber\n",
      "X758HY197RUS    242000.0\n",
      "9020YC197RUS    217500.0\n",
      "M0279X197RUS    216000.0\n",
      "Y352O8197RUS    207200.0\n",
      "Y778EE197RUS    192000.0\n",
      "                  ...   \n",
      "83218C154RUS       100.0\n",
      "Y195O8161RUS       100.0\n",
      "K376HE161RUS       100.0\n",
      "705787163RUS       100.0\n",
      "K326T8197RUS       100.0\n",
      "Name: Fines, Length: 531, dtype: float64\n"
     ]
    }
   ],
   "source": [
    "val_sum = views['Fines'].groupby(views.index).sum().sort_values(ascending=False)\n",
    "print(val_sum)"
   ]
  },
  {
   "cell_type": "markdown",
   "id": "d7fd3c89",
   "metadata": {},
   "source": [
    "##### Select from the initial dataframe all the rows corresponding to the top-1 car number, we want to zoom in a little bit"
   ]
  },
  {
   "cell_type": "code",
   "execution_count": 15,
   "id": "4df95599",
   "metadata": {},
   "outputs": [
    {
     "name": "stdout",
     "output_type": "stream",
     "text": [
      "CarNumber\n",
      "X758HY197RUS    242000.0\n",
      "Name: Fines, dtype: float64\n"
     ]
    }
   ],
   "source": [
    "print(val_sum[val_sum == val_sum.max()])"
   ]
  },
  {
   "cell_type": "markdown",
   "id": "38405c89",
   "metadata": {},
   "source": [
    "##### Display a table that answers the question: are there any car numbers that were connected to different models?"
   ]
  },
  {
   "cell_type": "code",
   "execution_count": 16,
   "id": "5cb5034a",
   "metadata": {},
   "outputs": [
    {
     "name": "stdout",
     "output_type": "stream",
     "text": [
      "CarNumber\n",
      "704687163RUS    1\n",
      "O719MM163RUS    1\n",
      "O6939X163RUS    1\n",
      "O68897197RUS    1\n",
      "O673E8197RUS    1\n",
      "               ..\n",
      "Y687HM197RUS    0\n",
      "Y693HM197RUS    0\n",
      "M589CH197RUS    0\n",
      "H837YK197RUS    0\n",
      "X023HY197RUS    0\n",
      "Name: Model, Length: 531, dtype: int64\n"
     ]
    }
   ],
   "source": [
    "print(views.groupby(views.index)['Model'].nunique().sort_values(ascending=False))"
   ]
  },
  {
   "cell_type": "markdown",
   "id": "cf6a2a91",
   "metadata": {},
   "source": []
  },
  {
   "cell_type": "code",
   "execution_count": 17,
   "id": "ab9aea6f",
   "metadata": {},
   "outputs": [
    {
     "data": {
      "text/plain": [
       "Make        Model  \n",
       "Ford        Focus      575\n",
       "            Mondeo       6\n",
       "Skoda       Octavia     48\n",
       "Toyota      Camry       16\n",
       "            Corolla     18\n",
       "Volkswagen  Golf        20\n",
       "            Jetta        6\n",
       "            Passat      22\n",
       "            Touareg      5\n",
       "Name: Fines, dtype: int64"
      ]
     },
     "execution_count": 17,
     "metadata": {},
     "output_type": "execute_result"
    }
   ],
   "source": [
    "views.groupby(['Make', 'Model']).agg('Fines').count()"
   ]
  }
 ],
 "metadata": {
  "kernelspec": {
   "display_name": ".venv",
   "language": "python",
   "name": "python3"
  },
  "language_info": {
   "codemirror_mode": {
    "name": "ipython",
    "version": 3
   },
   "file_extension": ".py",
   "mimetype": "text/x-python",
   "name": "python",
   "nbconvert_exporter": "python",
   "pygments_lexer": "ipython3",
   "version": "3.13.3"
  }
 },
 "nbformat": 4,
 "nbformat_minor": 5
}
