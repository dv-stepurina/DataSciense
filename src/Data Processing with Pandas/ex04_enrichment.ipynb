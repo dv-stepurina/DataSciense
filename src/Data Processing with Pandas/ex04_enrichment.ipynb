{
 "cells": [
  {
   "cell_type": "code",
   "execution_count": 36,
   "id": "56859695",
   "metadata": {},
   "outputs": [
    {
     "name": "stdout",
     "output_type": "stream",
     "text": [
      "Requirement already satisfied: requests in /Library/Frameworks/Python.framework/Versions/3.10/lib/python3.10/site-packages (2.32.3)\n",
      "Requirement already satisfied: idna<4,>=2.5 in /Library/Frameworks/Python.framework/Versions/3.10/lib/python3.10/site-packages (from requests) (3.10)\n",
      "Requirement already satisfied: certifi>=2017.4.17 in /Library/Frameworks/Python.framework/Versions/3.10/lib/python3.10/site-packages (from requests) (2025.4.26)\n",
      "Requirement already satisfied: charset-normalizer<4,>=2 in /Library/Frameworks/Python.framework/Versions/3.10/lib/python3.10/site-packages (from requests) (3.4.2)\n",
      "Requirement already satisfied: urllib3<3,>=1.21.1 in /Library/Frameworks/Python.framework/Versions/3.10/lib/python3.10/site-packages (from requests) (2.4.0)\n",
      "\n",
      "\u001b[1m[\u001b[0m\u001b[34;49mnotice\u001b[0m\u001b[1;39;49m]\u001b[0m\u001b[39;49m A new release of pip available: \u001b[0m\u001b[31;49m22.2.1\u001b[0m\u001b[39;49m -> \u001b[0m\u001b[32;49m25.1.1\u001b[0m\n",
      "\u001b[1m[\u001b[0m\u001b[34;49mnotice\u001b[0m\u001b[1;39;49m]\u001b[0m\u001b[39;49m To update, run: \u001b[0m\u001b[32;49mpip3 install --upgrade pip\u001b[0m\n",
      "Note: you may need to restart the kernel to use updated packages.\n"
     ]
    }
   ],
   "source": [
    "%pip install requests"
   ]
  },
  {
   "cell_type": "code",
   "execution_count": 37,
   "id": "9c0975a7",
   "metadata": {},
   "outputs": [],
   "source": [
    "import pandas as pd\n",
    "import numpy as np\n",
    "import requests"
   ]
  },
  {
   "cell_type": "code",
   "execution_count": 38,
   "id": "a605d2df",
   "metadata": {},
   "outputs": [
    {
     "name": "stdout",
     "output_type": "stream",
     "text": [
      "        CarNumber  Refund     Fines    Make    Model\n",
      "0    Y163O8161RUS       2  3,200.00    Ford    Focus\n",
      "1     E432XX77RUS       1  6,500.00  Toyota    Camry\n",
      "2     7184TT36RUS       1  2,100.00    Ford    Focus\n",
      "3    X582HE161RUS       2  2,000.00    Ford    Focus\n",
      "4    92918M178RUS       1  5,700.00    Ford    Focus\n",
      "..            ...     ...       ...     ...      ...\n",
      "720  Y163O8161RUS       2  1,600.00    Ford    Focus\n",
      "721  M0309X197RUS       1 22,300.00    Ford    Focus\n",
      "722  O673E8197RUS       2    600.00    Ford    Focus\n",
      "723  8610T8154RUS       1  2,000.00    Ford    Focus\n",
      "724  H419XE197RUS       2  8,594.59  Toyota  Corolla\n",
      "\n",
      "[725 rows x 5 columns]\n"
     ]
    }
   ],
   "source": [
    "views = pd.read_json('../ex02/auto.json')\n",
    "#views = views.set_index('CarNumber')\n",
    "pd.options.display.float_format = '{:,.2f}'.format \n",
    "print(views)"
   ]
  },
  {
   "cell_type": "markdown",
   "id": "a4485972",
   "metadata": {},
   "source": [
    "#### Enrich the dataframe using a sample from that dataframe"
   ]
  },
  {
   "cell_type": "code",
   "execution_count": 39,
   "id": "d996d06c",
   "metadata": {},
   "outputs": [
    {
     "name": "stdout",
     "output_type": "stream",
     "text": [
      "        CarNumber        Make  Model     Fines  Refund\n",
      "0     T6329O50RUS        Ford  Focus  1,500.00       1\n",
      "1     H917TC36RUS        Ford  Focus  4,000.00       2\n",
      "2    9763HY161RUS        Ford  Focus  4,500.00       2\n",
      "3    H003MH197RUS        Ford  Focus  2,000.00       2\n",
      "4    O64097197RUS        Ford  Focus  1,300.00       2\n",
      "..            ...         ...    ...       ...     ...\n",
      "195   X782CO96RUS        Ford  Focus  2,000.00       1\n",
      "196  E79988152RUS        Ford  Focus    400.00       2\n",
      "197  X582HE161RUS        Ford  Focus 12,800.00       1\n",
      "198  9594HY161RUS        Ford  Focus    800.00       2\n",
      "199  K327T8197RUS  Volkswagen   Golf  2,200.00       1\n",
      "\n",
      "[200 rows x 5 columns]\n",
      "              Refund     Fines        Make  Model\n",
      "CarNumber                                        \n",
      "Y163O8161RUS       2  3,200.00        Ford  Focus\n",
      "E432XX77RUS        1  6,500.00      Toyota  Camry\n",
      "7184TT36RUS        1  2,100.00        Ford  Focus\n",
      "X582HE161RUS       2  2,000.00        Ford  Focus\n",
      "92918M178RUS       1  5,700.00        Ford  Focus\n",
      "...              ...       ...         ...    ...\n",
      "X782CO96RUS        1  2,000.00        Ford  Focus\n",
      "E79988152RUS       2    400.00        Ford  Focus\n",
      "X582HE161RUS       1 12,800.00        Ford  Focus\n",
      "9594HY161RUS       2    800.00        Ford  Focus\n",
      "K327T8197RUS       1  2,200.00  Volkswagen   Golf\n",
      "\n",
      "[925 rows x 4 columns]\n"
     ]
    }
   ],
   "source": [
    "np.random.seed(21)\n",
    "sampled_combinations = views[['CarNumber', 'Make', 'Model']].drop_duplicates().sample(n=200, replace=True, random_state=21)\n",
    "\n",
    "sampled_data = sampled_combinations.assign(\n",
    "    Fines=np.random.choice(views['Fines'], size=200),      # Reuse existing fine values\n",
    "    Refund=np.random.choice(views['Refund'], size=200)     # Reuse existing refund values\n",
    ")\n",
    "sampled_data = sampled_data.reset_index(drop=True)\n",
    "print(sampled_data)\n",
    "concat_rows = pd.concat([views, sampled_data])\n",
    "concat_rows = concat_rows.set_index('CarNumber')\n",
    "print(concat_rows)\n"
   ]
  },
  {
   "cell_type": "markdown",
   "id": "ac3570b4",
   "metadata": {},
   "source": [
    "#### Enrich the dataframe concat_rows by a new column with the data generated"
   ]
  },
  {
   "cell_type": "code",
   "execution_count": 40,
   "id": "ed7cfb7b",
   "metadata": {
    "vscode": {
     "languageId": "javascript"
    }
   },
   "outputs": [
    {
     "name": "stdout",
     "output_type": "stream",
     "text": [
      "                    Make  Model     Fines  Refund  Year\n",
      "CarNumber                                              \n",
      "T6329O50RUS         Ford  Focus  1,500.00       1  1989\n",
      "H917TC36RUS         Ford  Focus  4,000.00       2  1995\n",
      "9763HY161RUS        Ford  Focus  4,500.00       2  1984\n",
      "H003MH197RUS        Ford  Focus  2,000.00       2  2015\n",
      "O64097197RUS        Ford  Focus  1,300.00       2  2014\n",
      "...                  ...    ...       ...     ...   ...\n",
      "X782CO96RUS         Ford  Focus  2,000.00       1  1991\n",
      "E79988152RUS        Ford  Focus    400.00       2  1995\n",
      "X582HE161RUS        Ford  Focus 12,800.00       1  1993\n",
      "9594HY161RUS        Ford  Focus    800.00       2  2015\n",
      "K327T8197RUS  Volkswagen   Golf  2,200.00       1  1999\n",
      "\n",
      "[200 rows x 5 columns]\n"
     ]
    }
   ],
   "source": [
    "np.random.seed(21)\n",
    "Years = pd.Series(\n",
    "    np.random.randint(1980,2020, size=200), \n",
    "    name='Year'\n",
    ")\n",
    "fines = pd.concat([sampled_data, Years], axis=1)\n",
    "if 'CarNumber' in fines.columns:\n",
    "    fines.set_index('CarNumber', inplace=True)\n",
    "elif 'CarNumber' != fines.index.name:\n",
    "    print('Warning: \"CarNumber\" not found in columns or index')\n",
    "\n",
    "print(fines)"
   ]
  },
  {
   "cell_type": "markdown",
   "id": "ce8d6c95",
   "metadata": {},
   "source": [
    "##### Enrich the dataframe with the data from another dataframe"
   ]
  },
  {
   "cell_type": "markdown",
   "id": "30183d65",
   "metadata": {},
   "source": [
    "##### Create a new series with the surnames (they should not have special characters like commas, brackets, etc.) from the data you gathered, the count should be equal to the number of unique car numbers using the sample (use random_state = 21)"
   ]
  },
  {
   "cell_type": "code",
   "execution_count": 41,
   "id": "36af8489",
   "metadata": {
    "vscode": {
     "languageId": "javascript"
    }
   },
   "outputs": [
    {
     "name": "stdout",
     "output_type": "stream",
     "text": [
      "0      RICHARDSON\n",
      "1            ROSS\n",
      "2          MORGAN\n",
      "3          BAILEY\n",
      "4           LOPEZ\n",
      "          ...    \n",
      "526      CAMPBELL\n",
      "527          HALL\n",
      "528         BAKER\n",
      "529          DIAZ\n",
      "530        MORGAN\n",
      "Name: Surname, Length: 531, dtype: object\n"
     ]
    }
   ],
   "source": [
    "surnames = pd.read_json('../data/surname.json')\n",
    "surnames.columns = surnames.iloc[0]\n",
    "surnames = surnames[1:]\n",
    "surnames = surnames['NAME'] \n",
    "np.random.seed(21)\n",
    "random_surnames = pd.Series(\n",
    "    np.random.choice(surnames, size=concat_rows.index.nunique(), replace=True), \n",
    "    name='Surname'\n",
    ")\n",
    "print(random_surnames)"
   ]
  },
  {
   "cell_type": "markdown",
   "id": "e197e340",
   "metadata": {},
   "source": [
    "##### Create the dataframe owners with 2 columns: CarNumber and SURNAME"
   ]
  },
  {
   "cell_type": "code",
   "execution_count": 42,
   "id": "eac9e8c7",
   "metadata": {
    "vscode": {
     "languageId": "javascript"
    }
   },
   "outputs": [
    {
     "name": "stdout",
     "output_type": "stream",
     "text": [
      "CarNumber\n",
      "Y163O8161RUS    RICHARDSON\n",
      "E432XX77RUS           ROSS\n",
      "7184TT36RUS         MORGAN\n",
      "X582HE161RUS        BAILEY\n",
      "92918M178RUS         LOPEZ\n",
      "                   ...    \n",
      "O136HO197RUS      CAMPBELL\n",
      "O22097197RUS          HALL\n",
      "M0309X197RUS         BAKER\n",
      "O673E8197RUS          DIAZ\n",
      "8610T8154RUS        MORGAN\n",
      "Name: Owner, Length: 531, dtype: object\n"
     ]
    }
   ],
   "source": [
    "owners = pd.Series(\n",
    "    random_surnames.values,  \n",
    "    name='Owner',\n",
    "    index=concat_rows.index.unique()\n",
    ")\n",
    "print(owners)\n"
   ]
  },
  {
   "cell_type": "markdown",
   "id": "d141f448",
   "metadata": {},
   "source": [
    "##### Append 5 more observations to the fines dataframe (come up with your own ideas of CarNumber, etc.)"
   ]
  },
  {
   "cell_type": "code",
   "execution_count": 43,
   "id": "641be4a7",
   "metadata": {
    "vscode": {
     "languageId": "javascript"
    }
   },
   "outputs": [
    {
     "name": "stdout",
     "output_type": "stream",
     "text": [
      "                    Make    Model    Fines  Refund  Year\n",
      "CarNumber                                               \n",
      "T6329O50RUS         Ford    Focus 1,500.00       1  1989\n",
      "H917TC36RUS         Ford    Focus 4,000.00       2  1995\n",
      "9763HY161RUS        Ford    Focus 4,500.00       2  1984\n",
      "H003MH197RUS        Ford    Focus 2,000.00       2  2015\n",
      "O64097197RUS        Ford    Focus 1,300.00       2  2014\n",
      "...                  ...      ...      ...     ...   ...\n",
      "A111AA111RUS        Ford    Focus 2,500.00       1  2015\n",
      "B222BB222RUS      Toyota  Corolla 1,500.00       1  2017\n",
      "C333CC333RUS  Volkswagen     Golf 3,000.00       2  2000\n",
      "D444DD444RUS  Volkswagen   Passat 2,000.00       1  2013\n",
      "E555EE555RUS        Ford   Mondeo 3,500.00       1  1999\n",
      "\n",
      "[205 rows x 5 columns]\n"
     ]
    }
   ],
   "source": [
    "new_fines = pd.DataFrame(\n",
    "    {'CarNumber':['A111AA111RUS', 'B222BB222RUS', 'C333CC333RUS', 'D444DD444RUS', 'E555EE555RUS'],\n",
    "    'Make':['Ford', 'Toyota', 'Volkswagen', 'Volkswagen', 'Ford'],\n",
    "    'Model':['Focus', 'Corolla', 'Golf', 'Passat', 'Mondeo'],\n",
    "    'Fines':[2500.00, 1500.00, 3000.00, 2000.00, 3500.00],\n",
    "    'Refund':[1, 1, 2, 1, 1],\n",
    "    'Year':[2015, 2017, 2000, 2013, 1999]}\n",
    ")\n",
    "new_fines = new_fines.set_index('CarNumber')\n",
    "fines = pd.concat([fines, new_fines])\n",
    "print(fines)"
   ]
  },
  {
   "cell_type": "markdown",
   "id": "04945e39",
   "metadata": {},
   "source": [
    "##### Delete the dataframe last 20 observations from the owners and add 3 new observations (they are not the same as those you add to the fines dataframe)"
   ]
  },
  {
   "cell_type": "code",
   "execution_count": 44,
   "id": "f46db435",
   "metadata": {
    "vscode": {
     "languageId": "javascript"
    }
   },
   "outputs": [
    {
     "name": "stdout",
     "output_type": "stream",
     "text": [
      "Y163O8161RUS    RICHARDSON\n",
      "E432XX77RUS           ROSS\n",
      "7184TT36RUS         MORGAN\n",
      "X582HE161RUS        BAILEY\n",
      "92918M178RUS         LOPEZ\n",
      "                   ...    \n",
      "O50197197RUS        WRIGHT\n",
      "7608EE777RUS          HILL\n",
      "A123AA123RUS         ROSSK\n",
      "B234BB234RUS         KOMMO\n",
      "C345CC345RUS           LEN\n",
      "Name: Owner, Length: 514, dtype: object\n"
     ]
    }
   ],
   "source": [
    "owners = owners.iloc[:-20]\n",
    "owners = pd.concat([owners, pd.Series(['ROSSK', 'KOMMO', 'LEN'], index=['A123AA123RUS', 'B234BB234RUS', 'C345CC345RUS'],  name=owners.name )])\n",
    "print(owners)"
   ]
  },
  {
   "cell_type": "markdown",
   "id": "af0481b1",
   "metadata": {},
   "source": [
    "##### Join both dataframes"
   ]
  },
  {
   "cell_type": "markdown",
   "id": "77194099",
   "metadata": {},
   "source": [
    "###### The new dataframe should have only the car numbers that exist in both dataframes"
   ]
  },
  {
   "cell_type": "code",
   "execution_count": 45,
   "id": "47472e20",
   "metadata": {
    "vscode": {
     "languageId": "javascript"
    }
   },
   "outputs": [
    {
     "name": "stdout",
     "output_type": "stream",
     "text": [
      "                    Make  Model     Fines  Refund  Year      Owner\n",
      "CarNumber                                                         \n",
      "T6329O50RUS         Ford  Focus  1,500.00       1  1989    SANDERS\n",
      "H917TC36RUS         Ford  Focus  4,000.00       2  1995   ROBINSON\n",
      "9763HY161RUS        Ford  Focus  4,500.00       2  1984     TORRES\n",
      "H003MH197RUS        Ford  Focus  2,000.00       2  2015       WARD\n",
      "O64097197RUS        Ford  Focus  1,300.00       2  2014  HERNANDEZ\n",
      "...                  ...    ...       ...     ...   ...        ...\n",
      "X782CO96RUS         Ford  Focus  2,000.00       1  1991   CASTILLO\n",
      "E79988152RUS        Ford  Focus    400.00       2  1995      ALLEN\n",
      "X582HE161RUS        Ford  Focus 12,800.00       1  1993     BAILEY\n",
      "9594HY161RUS        Ford  Focus    800.00       2  2015    BENNETT\n",
      "K327T8197RUS  Volkswagen   Golf  2,200.00       1  1999     TURNER\n",
      "\n",
      "[192 rows x 6 columns]\n"
     ]
    }
   ],
   "source": [
    "merged_inner = fines.join(owners, how='inner')\n",
    "print(merged_inner)"
   ]
  },
  {
   "cell_type": "markdown",
   "id": "06c65d98",
   "metadata": {},
   "source": [
    "###### The new dataframe should have all the car numbers that exist in both dataframes"
   ]
  },
  {
   "cell_type": "code",
   "execution_count": 46,
   "id": "06cc2e05",
   "metadata": {
    "vscode": {
     "languageId": "javascript"
    }
   },
   "outputs": [
    {
     "name": "stdout",
     "output_type": "stream",
     "text": [
      "              Make  Model  Fines    Refund     Year     Owner\n",
      "CarNumber                                                    \n",
      "704687163RUS   NaN    NaN    NaN       NaN      NaN     ADAMS\n",
      "704787163RUS   NaN    NaN    NaN       NaN      NaN    MORGAN\n",
      "704987163RUS   NaN    NaN    NaN       NaN      NaN  MITCHELL\n",
      "705287163RUS   NaN    NaN    NaN       NaN      NaN     GOMEZ\n",
      "705387163RUS  Ford  Focus 300.00 10,700.00 1,995.00   STEWART\n",
      "...            ...    ...    ...       ...      ...       ...\n",
      "Y965O8197RUS   NaN    NaN    NaN       NaN      NaN  PETERSON\n",
      "Y966O8197RUS   NaN    NaN    NaN       NaN      NaN     WHITE\n",
      "Y967O8197RUS  Ford  Focus 500.00      1.00 1,983.00    MARTIN\n",
      "Y969O8197RUS   NaN    NaN    NaN       NaN      NaN     LOPEZ\n",
      "Y973O8197RUS   NaN    NaN    NaN       NaN      NaN     YOUNG\n",
      "\n",
      "[561 rows x 6 columns]\n"
     ]
    }
   ],
   "source": [
    "merged_outer = fines.join(owners, how='outer')\n",
    "print(merged_outer)"
   ]
  },
  {
   "cell_type": "markdown",
   "id": "86355adc",
   "metadata": {},
   "source": [
    "###### The new dataframe should have only the car numbers from the fines dataframe"
   ]
  },
  {
   "cell_type": "code",
   "execution_count": 47,
   "id": "7ff02107",
   "metadata": {
    "vscode": {
     "languageId": "javascript"
    }
   },
   "outputs": [
    {
     "name": "stdout",
     "output_type": "stream",
     "text": [
      "                    Make    Model    Fines  Refund  Year      Owner\n",
      "CarNumber                                                          \n",
      "T6329O50RUS         Ford    Focus 1,500.00       1  1989    SANDERS\n",
      "H917TC36RUS         Ford    Focus 4,000.00       2  1995   ROBINSON\n",
      "9763HY161RUS        Ford    Focus 4,500.00       2  1984     TORRES\n",
      "H003MH197RUS        Ford    Focus 2,000.00       2  2015       WARD\n",
      "O64097197RUS        Ford    Focus 1,300.00       2  2014  HERNANDEZ\n",
      "...                  ...      ...      ...     ...   ...        ...\n",
      "A111AA111RUS        Ford    Focus 2,500.00       1  2015        NaN\n",
      "B222BB222RUS      Toyota  Corolla 1,500.00       1  2017        NaN\n",
      "C333CC333RUS  Volkswagen     Golf 3,000.00       2  2000        NaN\n",
      "D444DD444RUS  Volkswagen   Passat 2,000.00       1  2013        NaN\n",
      "E555EE555RUS        Ford   Mondeo 3,500.00       1  1999        NaN\n",
      "\n",
      "[205 rows x 6 columns]\n"
     ]
    }
   ],
   "source": [
    "merged_left = fines.join(owners, how='left')\n",
    "print(merged_left)"
   ]
  },
  {
   "cell_type": "markdown",
   "id": "6719af93",
   "metadata": {},
   "source": [
    "###### The new dataframe should have only the car numbers from the owners dataframe"
   ]
  },
  {
   "cell_type": "code",
   "execution_count": 48,
   "id": "5e254b48",
   "metadata": {
    "vscode": {
     "languageId": "javascript"
    }
   },
   "outputs": [
    {
     "name": "stdout",
     "output_type": "stream",
     "text": [
      "                Make    Model     Fines  Refund     Year       Owner\n",
      "CarNumber                                                           \n",
      "Y163O8161RUS    Ford    Focus 27,000.00    2.00 1,990.00  RICHARDSON\n",
      "Y163O8161RUS    Ford    Focus    800.00    2.00 1,994.00  RICHARDSON\n",
      "E432XX77RUS   Toyota    Camry  1,000.00    2.00 2,015.00        ROSS\n",
      "E432XX77RUS   Toyota    Camry  3,800.00    2.00 1,984.00        ROSS\n",
      "7184TT36RUS      NaN      NaN       NaN     NaN      NaN      MORGAN\n",
      "...              ...      ...       ...     ...      ...         ...\n",
      "O50197197RUS    Ford    Focus  6,000.00    2.00 2,011.00      WRIGHT\n",
      "7608EE777RUS   Skoda  Octavia    500.00    1.00 1,990.00        HILL\n",
      "A123AA123RUS     NaN      NaN       NaN     NaN      NaN       ROSSK\n",
      "B234BB234RUS     NaN      NaN       NaN     NaN      NaN       KOMMO\n",
      "C345CC345RUS     NaN      NaN       NaN     NaN      NaN         LEN\n",
      "\n",
      "[548 rows x 6 columns]\n"
     ]
    }
   ],
   "source": [
    "merged_right = fines.join(owners, how='right')\n",
    "print(merged_right)"
   ]
  },
  {
   "cell_type": "markdown",
   "id": "e8360e7e",
   "metadata": {},
   "source": [
    "##### Create a pivot table from the fines dataframe, it should look like this (the values are the sums of the fines), but with all the years (the values may be different for you):"
   ]
  },
  {
   "cell_type": "code",
   "execution_count": 49,
   "id": "2694d38d",
   "metadata": {
    "vscode": {
     "languageId": "javascript"
    }
   },
   "outputs": [
    {
     "name": "stdout",
     "output_type": "stream",
     "text": [
      "Year                    1980      1981      1982      1983      1984  \\\n",
      "Make       Model                                                       \n",
      "Ford       Focus   23,494.59 33,000.00 17,300.00 18,100.00 14,400.00   \n",
      "           Mondeo        NaN 18,800.00       NaN       NaN       NaN   \n",
      "Skoda      Octavia       NaN  7,600.00       NaN       NaN       NaN   \n",
      "Toyota     Camry         NaN       NaN       NaN       NaN 11,300.00   \n",
      "           Corolla       NaN       NaN       NaN       NaN       NaN   \n",
      "Volkswagen Golf          NaN       NaN       NaN  6,800.00       NaN   \n",
      "           Jetta         NaN       NaN       NaN       NaN       NaN   \n",
      "           Passat        NaN       NaN       NaN       NaN       NaN   \n",
      "           Touareg       NaN       NaN       NaN       NaN       NaN   \n",
      "\n",
      "Year                    1985     1986      1987      1988      1989  ...  \\\n",
      "Make       Model                                                     ...   \n",
      "Ford       Focus   53,794.59      NaN 11,900.00 15,100.00 12,900.00  ...   \n",
      "           Mondeo        NaN 3,400.00       NaN       NaN       NaN  ...   \n",
      "Skoda      Octavia  1,400.00      NaN       NaN       NaN       NaN  ...   \n",
      "Toyota     Camry      300.00      NaN       NaN       NaN       NaN  ...   \n",
      "           Corolla  1,000.00      NaN       NaN       NaN       NaN  ...   \n",
      "Volkswagen Golf          NaN      NaN       NaN       NaN       NaN  ...   \n",
      "           Jetta         NaN      NaN       NaN       NaN       NaN  ...   \n",
      "           Passat        NaN   200.00       NaN       NaN       NaN  ...   \n",
      "           Touareg       NaN      NaN       NaN       NaN       NaN  ...   \n",
      "\n",
      "Year                    2010      2011      2012      2013      2014  \\\n",
      "Make       Model                                                       \n",
      "Ford       Focus   43,489.17 11,500.00 23,300.00 13,300.00 34,094.59   \n",
      "           Mondeo        NaN       NaN       NaN       NaN       NaN   \n",
      "Skoda      Octavia 21,800.00       NaN  1,000.00  7,200.00       NaN   \n",
      "Toyota     Camry         NaN       NaN       NaN       NaN    300.00   \n",
      "           Corolla       NaN       NaN       NaN       NaN       NaN   \n",
      "Volkswagen Golf          NaN       NaN       NaN  1,000.00       NaN   \n",
      "           Jetta         NaN       NaN       NaN       NaN       NaN   \n",
      "           Passat        NaN       NaN       NaN  2,000.00       NaN   \n",
      "           Touareg       NaN       NaN       NaN       NaN       NaN   \n",
      "\n",
      "Year                    2015      2016      2017      2018      2019  \n",
      "Make       Model                                                      \n",
      "Ford       Focus   29,700.00 41,400.00 15,300.00 55,000.00 14,500.00  \n",
      "           Mondeo        NaN       NaN       NaN       NaN       NaN  \n",
      "Skoda      Octavia       NaN       NaN       NaN       NaN    800.00  \n",
      "Toyota     Camry    1,000.00       NaN       NaN       NaN       NaN  \n",
      "           Corolla       NaN  1,000.00  1,500.00       NaN       NaN  \n",
      "Volkswagen Golf          NaN       NaN       NaN       NaN       NaN  \n",
      "           Jetta         NaN  3,800.00       NaN       NaN       NaN  \n",
      "           Passat        NaN       NaN       NaN       NaN       NaN  \n",
      "           Touareg       NaN       NaN       NaN       NaN       NaN  \n",
      "\n",
      "[9 rows x 40 columns]\n"
     ]
    }
   ],
   "source": [
    "pivot_table = pd.pivot_table(\n",
    "    fines,\n",
    "    values='Fines',\n",
    "    index=['Make', 'Model'], \n",
    "    columns='Year',\n",
    "    aggfunc='sum'\n",
    ")\n",
    "print(pivot_table)"
   ]
  },
  {
   "cell_type": "markdown",
   "id": "5db468eb",
   "metadata": {},
   "source": [
    "##### Save both the fines and owners dataframes to CSV files "
   ]
  },
  {
   "cell_type": "code",
   "execution_count": 50,
   "id": "ad70b6f2",
   "metadata": {
    "vscode": {
     "languageId": "javascript"
    }
   },
   "outputs": [],
   "source": [
    "fines.to_csv('fines.csv')\n",
    "owners.to_csv('owners.csv')"
   ]
  },
  {
   "cell_type": "code",
   "execution_count": 51,
   "id": "7a6b8287",
   "metadata": {
    "vscode": {
     "languageId": "javascript"
    }
   },
   "outputs": [
    {
     "data": {
      "text/plain": [
       "925"
      ]
     },
     "execution_count": 51,
     "metadata": {},
     "output_type": "execute_result"
    }
   ],
   "source": [
    "concat_rows.count()\n",
    "len(concat_rows)"
   ]
  }
 ],
 "metadata": {
  "kernelspec": {
   "display_name": "Python 3",
   "language": "python",
   "name": "python3"
  },
  "language_info": {
   "codemirror_mode": {
    "name": "ipython",
    "version": 3
   },
   "file_extension": ".py",
   "mimetype": "text/x-python",
   "name": "python",
   "nbconvert_exporter": "python",
   "pygments_lexer": "ipython3",
   "version": "3.10.6"
  }
 },
 "nbformat": 4,
 "nbformat_minor": 5
}
