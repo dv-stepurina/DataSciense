{
 "cells": [
  {
   "cell_type": "markdown",
   "id": "dc61adac",
   "metadata": {},
   "source": [
    "## Let's make this code faster"
   ]
  },
  {
   "cell_type": "code",
   "execution_count": 20,
   "id": "3349beca",
   "metadata": {},
   "outputs": [],
   "source": [
    "import pandas as pd"
   ]
  },
  {
   "cell_type": "code",
   "execution_count": 21,
   "id": "2e3c4fef",
   "metadata": {},
   "outputs": [],
   "source": [
    "fines = pd.read_csv('../../datasets/fines.csv')"
   ]
  },
  {
   "cell_type": "markdown",
   "id": "29dd8d2c",
   "metadata": {},
   "source": [
    "##### loop: write a function that iterates through the dataframe using for i in range(0, len(df)), iloc and append() to a list, assign the result of the function to a new column in the dataframe"
   ]
  },
  {
   "cell_type": "code",
   "execution_count": 22,
   "id": "ebecde50",
   "metadata": {},
   "outputs": [
    {
     "name": "stdout",
     "output_type": "stream",
     "text": [
      "2.93 ms ± 30.9 μs per loop (mean ± std. dev. of 7 runs, 100 loops each)\n"
     ]
    }
   ],
   "source": [
    "%%timeit\n",
    "def calculate_loop(fines):\n",
    "    results = []\n",
    "    for i in range(0, len(fines)):\n",
    "        row = fines.iloc[0]\n",
    "       \n",
    "        try:\n",
    "            calculation = (row['Fines'] / row['Refund']) * row['Year']\n",
    "        except ZeroDivisionError:\n",
    "            calculation = pd.nan\n",
    "        results.append(calculation)\n",
    "    return results\n",
    "fines['Calculated_loop'] = calculate_loop(fines)"
   ]
  },
  {
   "cell_type": "markdown",
   "id": "38771fc5",
   "metadata": {},
   "source": [
    "##### Do it using iterrows()"
   ]
  },
  {
   "cell_type": "code",
   "execution_count": 23,
   "id": "c439b469",
   "metadata": {},
   "outputs": [
    {
     "name": "stdout",
     "output_type": "stream",
     "text": [
      "2.88 ms ± 243 μs per loop (mean ± std. dev. of 7 runs, 100 loops each)\n"
     ]
    }
   ],
   "source": [
    "%%timeit\n",
    "def calculate_iterrows(fines):\n",
    "    results = []\n",
    "    for _, row in fines.iterrows():\n",
    "        results.append(row['Fines'] / row['Refund'] * row['Year'])\n",
    "    return results\n",
    "\n",
    "fines['Calculated_iterrows'] = calculate_iterrows(fines)\n"
   ]
  },
  {
   "cell_type": "markdown",
   "id": "27b99471",
   "metadata": {},
   "source": [
    "##### Do it using apply() and lambda function"
   ]
  },
  {
   "cell_type": "code",
   "execution_count": 24,
   "id": "b1e85608",
   "metadata": {},
   "outputs": [
    {
     "name": "stdout",
     "output_type": "stream",
     "text": [
      "876 μs ± 19.8 μs per loop (mean ± std. dev. of 7 runs, 1,000 loops each)\n"
     ]
    }
   ],
   "source": [
    "%%timeit\n",
    "fines['Calculated_apply'] = fines.apply(lambda row: row['Fines'] / row['Refund'] * row['Year'], axis=1)\n",
    "#print(fines)"
   ]
  },
  {
   "cell_type": "markdown",
   "id": "b7a148e9",
   "metadata": {},
   "source": [
    "##### Do it using Series objects from the dataframe"
   ]
  },
  {
   "cell_type": "code",
   "execution_count": 25,
   "id": "d5def717",
   "metadata": {},
   "outputs": [
    {
     "name": "stdout",
     "output_type": "stream",
     "text": [
      "63 μs ± 2.64 μs per loop (mean ± std. dev. of 7 runs, 10,000 loops each)\n"
     ]
    }
   ],
   "source": [
    "%%timeit\n",
    "fines['Calculated_vectorized'] = fines['Fines'] / fines['Refund'] * fines['Year']\n",
    "#print(fines)"
   ]
  },
  {
   "cell_type": "markdown",
   "id": "0d8ffd74",
   "metadata": {},
   "source": [
    "##### Do it as in the previous subtask but with the method .values\n"
   ]
  },
  {
   "cell_type": "code",
   "execution_count": 26,
   "id": "a1e0b9d1",
   "metadata": {},
   "outputs": [
    {
     "name": "stdout",
     "output_type": "stream",
     "text": [
      "31.1 μs ± 131 ns per loop (mean ± std. dev. of 7 runs, 10,000 loops each)\n"
     ]
    }
   ],
   "source": [
    "%%timeit\n",
    "fines['Calculated_values'] = fines['Fines'].values / fines['Refund'].values * fines['Year'].values\n",
    "#print(fines)"
   ]
  },
  {
   "cell_type": "markdown",
   "id": "06471ebd",
   "metadata": {},
   "source": [
    "#### Indexing: measure the time using the magic command %%timeit in the cell"
   ]
  },
  {
   "cell_type": "markdown",
   "id": "081a1f15",
   "metadata": {},
   "source": [
    "##### Get a row for a specific CarNumber, for example, ’O136HO197RUS’"
   ]
  },
  {
   "cell_type": "code",
   "execution_count": 27,
   "id": "38f6e0f5",
   "metadata": {},
   "outputs": [
    {
     "name": "stdout",
     "output_type": "stream",
     "text": [
      "89.4 μs ± 1.89 μs per loop (mean ± std. dev. of 7 runs, 10,000 loops each)\n"
     ]
    }
   ],
   "source": [
    "%%timeit\n",
    "car = fines[fines['CarNumber'] == 'O136HO197RUS']"
   ]
  },
  {
   "cell_type": "markdown",
   "id": "83532be4",
   "metadata": {},
   "source": [
    "##### Set the index in your dataframe with CarNumber"
   ]
  },
  {
   "cell_type": "code",
   "execution_count": 28,
   "id": "42b8ff6c",
   "metadata": {},
   "outputs": [
    {
     "name": "stdout",
     "output_type": "stream",
     "text": [
      "115 μs ± 3.87 μs per loop (mean ± std. dev. of 7 runs, 10,000 loops each)\n"
     ]
    }
   ],
   "source": [
    "%%timeit \n",
    "fines.set_index('CarNumber')\n"
   ]
  },
  {
   "cell_type": "code",
   "execution_count": 29,
   "id": "13e6588c",
   "metadata": {},
   "outputs": [],
   "source": [
    "fines = fines.set_index('CarNumber')\n",
    "#print(fines)"
   ]
  },
  {
   "cell_type": "markdown",
   "id": "3e8f1414",
   "metadata": {},
   "source": [
    "##### Again, get a row for the same CarNumber"
   ]
  },
  {
   "cell_type": "code",
   "execution_count": 30,
   "id": "5e12ad17",
   "metadata": {},
   "outputs": [
    {
     "name": "stdout",
     "output_type": "stream",
     "text": [
      "16.8 μs ± 321 ns per loop (mean ± std. dev. of 7 runs, 100,000 loops each)\n"
     ]
    }
   ],
   "source": [
    "%%timeit\n",
    "car = fines.loc['O136HO197RUS']\n",
    "#print(car)"
   ]
  },
  {
   "cell_type": "markdown",
   "id": "a40fbaa8",
   "metadata": {},
   "source": [
    "#### Downcasting"
   ]
  },
  {
   "cell_type": "markdown",
   "id": "d51c6478",
   "metadata": {},
   "source": [
    "##### Run df.info(memory_usage=’deep’), pay attention to the Dtype and the memory usage"
   ]
  },
  {
   "cell_type": "code",
   "execution_count": 31,
   "id": "90b48708",
   "metadata": {},
   "outputs": [
    {
     "name": "stdout",
     "output_type": "stream",
     "text": [
      "<class 'pandas.core.frame.DataFrame'>\n",
      "Index: 205 entries, T6329O50RUS to E555EE555RUS\n",
      "Data columns (total 10 columns):\n",
      " #   Column                 Non-Null Count  Dtype  \n",
      "---  ------                 --------------  -----  \n",
      " 0   Make                   205 non-null    object \n",
      " 1   Model                  202 non-null    object \n",
      " 2   Fines                  205 non-null    float64\n",
      " 3   Refund                 205 non-null    int64  \n",
      " 4   Year                   205 non-null    int64  \n",
      " 5   Calculated_loop        205 non-null    float64\n",
      " 6   Calculated_iterrows    205 non-null    float64\n",
      " 7   Calculated_apply       205 non-null    float64\n",
      " 8   Calculated_vectorized  205 non-null    float64\n",
      " 9   Calculated_values      205 non-null    float64\n",
      "dtypes: float64(6), int64(2), object(2)\n",
      "memory usage: 54.6 KB\n"
     ]
    }
   ],
   "source": [
    "fines.info(memory_usage='deep')"
   ]
  },
  {
   "cell_type": "markdown",
   "id": "d1e7b49d",
   "metadata": {},
   "source": [
    "##### Make a copy() of your initial dataframe into another dataframe optimized"
   ]
  },
  {
   "cell_type": "code",
   "execution_count": 32,
   "id": "43564f71",
   "metadata": {},
   "outputs": [],
   "source": [
    "optimized = fines.copy()"
   ]
  },
  {
   "cell_type": "markdown",
   "id": "2b9e7fe7",
   "metadata": {},
   "source": [
    "##### Downcast from float64 to float32 for all the columns"
   ]
  },
  {
   "cell_type": "code",
   "execution_count": 33,
   "id": "77d5e391",
   "metadata": {},
   "outputs": [
    {
     "name": "stdout",
     "output_type": "stream",
     "text": [
      "Make                      object\n",
      "Model                     object\n",
      "Fines                    float64\n",
      "Refund                     int64\n",
      "Year                       int64\n",
      "Calculated_loop          float64\n",
      "Calculated_iterrows      float64\n",
      "Calculated_apply         float64\n",
      "Calculated_vectorized    float64\n",
      "Calculated_values        float64\n",
      "dtype: object\n",
      "Make                      object\n",
      "Model                     object\n",
      "Fines                    float32\n",
      "Refund                     int64\n",
      "Year                       int64\n",
      "Calculated_loop          float32\n",
      "Calculated_iterrows      float64\n",
      "Calculated_apply         float64\n",
      "Calculated_vectorized    float64\n",
      "Calculated_values        float64\n",
      "dtype: object\n"
     ]
    }
   ],
   "source": [
    "print(optimized.dtypes)\n",
    "for col in optimized.select_dtypes(include='float'):\n",
    "    optimized[col] = pd.to_numeric(optimized[col], downcast='float')\n",
    "print(optimized.dtypes) "
   ]
  },
  {
   "cell_type": "markdown",
   "id": "941fe6ee",
   "metadata": {},
   "source": [
    "##### Downcast from int64 to the smallest numerical dtype possible"
   ]
  },
  {
   "cell_type": "code",
   "execution_count": 34,
   "id": "817b1bea",
   "metadata": {},
   "outputs": [
    {
     "name": "stdout",
     "output_type": "stream",
     "text": [
      "Make                      object\n",
      "Model                     object\n",
      "Fines                    float32\n",
      "Refund                     int64\n",
      "Year                       int64\n",
      "Calculated_loop          float32\n",
      "Calculated_iterrows      float64\n",
      "Calculated_apply         float64\n",
      "Calculated_vectorized    float64\n",
      "Calculated_values        float64\n",
      "dtype: object\n",
      "Make                      object\n",
      "Model                     object\n",
      "Fines                    float32\n",
      "Refund                     int16\n",
      "Year                       int16\n",
      "Calculated_loop          float32\n",
      "Calculated_iterrows      float64\n",
      "Calculated_apply         float64\n",
      "Calculated_vectorized    float64\n",
      "Calculated_values        float64\n",
      "dtype: object\n"
     ]
    }
   ],
   "source": [
    "print(optimized.dtypes)\n",
    "optimized[['Refund', 'Year']] = optimized[['Refund', 'Year']].apply(\n",
    "    pd.to_numeric, downcast='integer'\n",
    ")\n",
    "\n",
    "for col in optimized.select_dtypes(include='int'):\n",
    "    optimized[col] = pd.to_numeric(optimized[col], downcast='int')\n",
    "\n",
    "print(optimized.dtypes) "
   ]
  },
  {
   "cell_type": "markdown",
   "id": "52b460f0",
   "metadata": {},
   "source": [
    "##### Run info(memory_usage='deep') for your new dataframe, pay attention to the Dtype and the memory usage"
   ]
  },
  {
   "cell_type": "code",
   "execution_count": 35,
   "id": "7fc7c798",
   "metadata": {},
   "outputs": [
    {
     "name": "stdout",
     "output_type": "stream",
     "text": [
      "<class 'pandas.core.frame.DataFrame'>\n",
      "Index: 205 entries, T6329O50RUS to E555EE555RUS\n",
      "Data columns (total 10 columns):\n",
      " #   Column                 Non-Null Count  Dtype  \n",
      "---  ------                 --------------  -----  \n",
      " 0   Make                   205 non-null    object \n",
      " 1   Model                  202 non-null    object \n",
      " 2   Fines                  205 non-null    float32\n",
      " 3   Refund                 205 non-null    int16  \n",
      " 4   Year                   205 non-null    int16  \n",
      " 5   Calculated_loop        205 non-null    float32\n",
      " 6   Calculated_iterrows    205 non-null    float64\n",
      " 7   Calculated_apply       205 non-null    float64\n",
      " 8   Calculated_vectorized  205 non-null    float64\n",
      " 9   Calculated_values      205 non-null    float64\n",
      "dtypes: float32(2), float64(4), int16(2), object(2)\n",
      "memory usage: 50.6 KB\n"
     ]
    }
   ],
   "source": [
    "optimized.info(memory_usage='deep')"
   ]
  },
  {
   "cell_type": "markdown",
   "id": "f1522a0a",
   "metadata": {},
   "source": [
    "##### Categories"
   ]
  },
  {
   "cell_type": "code",
   "execution_count": 36,
   "id": "856ef971",
   "metadata": {},
   "outputs": [
    {
     "name": "stdout",
     "output_type": "stream",
     "text": [
      "<class 'pandas.core.frame.DataFrame'>\n",
      "Index: 205 entries, T6329O50RUS to E555EE555RUS\n",
      "Data columns (total 10 columns):\n",
      " #   Column                 Non-Null Count  Dtype   \n",
      "---  ------                 --------------  -----   \n",
      " 0   Make                   205 non-null    category\n",
      " 1   Model                  202 non-null    category\n",
      " 2   Fines                  205 non-null    float32 \n",
      " 3   Refund                 205 non-null    int16   \n",
      " 4   Year                   205 non-null    int16   \n",
      " 5   Calculated_loop        205 non-null    float32 \n",
      " 6   Calculated_iterrows    205 non-null    float64 \n",
      " 7   Calculated_apply       205 non-null    float64 \n",
      " 8   Calculated_vectorized  205 non-null    float64 \n",
      " 9   Calculated_values      205 non-null    float64 \n",
      "dtypes: category(2), float32(2), float64(4), int16(2)\n",
      "memory usage: 30.7 KB\n"
     ]
    }
   ],
   "source": [
    "for col in optimized.select_dtypes(include='object'):\n",
    "    optimized[col] = optimized[col].astype('category')\n",
    "optimized.info(memory_usage='deep')"
   ]
  },
  {
   "cell_type": "markdown",
   "id": "d7a2897e",
   "metadata": {},
   "source": [
    "#### Memory clean"
   ]
  },
  {
   "cell_type": "code",
   "execution_count": 37,
   "id": "ad0858b5",
   "metadata": {},
   "outputs": [
    {
     "name": "stdout",
     "output_type": "stream",
     "text": [
      "'Fines' is already cleared\n"
     ]
    }
   ],
   "source": [
    "import gc \n",
    "del fines  \n",
    "gc.collect()  \n",
    "try:\n",
    "    print(fines.head())\n",
    "except NameError:\n",
    "    print(\"'Fines' is already cleared\")"
   ]
  },
  {
   "cell_type": "code",
   "execution_count": 38,
   "id": "6c558fbe",
   "metadata": {},
   "outputs": [
    {
     "name": "stdout",
     "output_type": "stream",
     "text": [
      "'Fines' is already cleared\n"
     ]
    }
   ],
   "source": [
    "%reset_selective -f ^(?!optimized$).*\n",
    "try:\n",
    "    print(fines.head())\n",
    "except NameError:\n",
    "    print(\"'Fines' is already cleared\")"
   ]
  }
 ],
 "metadata": {
  "kernelspec": {
   "display_name": ".venv",
   "language": "python",
   "name": "python3"
  },
  "language_info": {
   "codemirror_mode": {
    "name": "ipython",
    "version": 3
   },
   "file_extension": ".py",
   "mimetype": "text/x-python",
   "name": "python",
   "nbconvert_exporter": "python",
   "pygments_lexer": "ipython3",
   "version": "3.13.3"
  }
 },
 "nbformat": 4,
 "nbformat_minor": 5
}
